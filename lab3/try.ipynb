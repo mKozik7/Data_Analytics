{
 "cells": [
  {
   "cell_type": "code",
   "execution_count": 1,
   "metadata": {},
   "outputs": [
    {
     "name": "stderr",
     "output_type": "stream",
     "text": [
      "INFO:cmdstanpy:compiling stan file C:\\Users\\macie\\OneDrive\\Pulpit\\All\\Studia\\AIR_2022\\Data_analytics\\Data_Analytics\\lab3\\stan1.stan to exe file C:\\Users\\macie\\OneDrive\\Pulpit\\All\\Studia\\AIR_2022\\Data_analytics\\Data_Analytics\\lab3\\stan1.exe\n",
      "INFO:cmdstanpy:compiled model executable: C:\\Users\\macie\\OneDrive\\Pulpit\\All\\Studia\\AIR_2022\\Data_analytics\\Data_Analytics\\lab3\\stan1.exe\n",
      "INFO:cmdstanpy:CmdStan start processing\n",
      "chain 1 |\u001b[33m          \u001b[0m| 00:00 Status\n",
      "\u001b[A\n",
      "\n",
      "chain 1 |\u001b[34m██████████\u001b[0m| 00:00 Sampling completed\n",
      "chain 2 |\u001b[34m██████████\u001b[0m| 00:00 Sampling completed\n",
      "chain 3 |\u001b[34m██████████\u001b[0m| 00:00 Sampling completed\n",
      "chain 4 |\u001b[34m██████████\u001b[0m| 00:00 Sampling completed"
     ]
    },
    {
     "name": "stdout",
     "output_type": "stream",
     "text": [
      "                                                                                                                                                                                                                                                                                                                                "
     ]
    },
    {
     "name": "stderr",
     "output_type": "stream",
     "text": [
      "\n",
      "INFO:cmdstanpy:CmdStan done processing.\n"
     ]
    },
    {
     "name": "stdout",
     "output_type": "stream",
     "text": [
      "\n"
     ]
    },
    {
     "data": {
      "image/png": "[encoded data removed]",
      "text/plain": [
       "<Figure size 432x288 with 1 Axes>"
      ]
     },
     "metadata": {
      "needs_background": "light"
     },
     "output_type": "display_data"
    }
   ],
   "source": [
    "from cmdstanpy import CmdStanModel\n",
    "import pandas as pd\n",
    "import arviz as az \n",
    "import numpy as np\n",
    "import matplotlib.pyplot as plt\n",
    "import scipy.stats as stats\n",
    "\n",
    "\n",
    "normal = pd.read_csv('https://raw.githubusercontent.com/KAIR-ISZ/public_lectures/master/Data%20Analytics%202022/Lab%203%20-%20Probability%20distribution/normal.csv', index_col=0, header=0)\n",
    "divergence = CmdStanModel(stan_file='stan1.stan')\n",
    "divergence_sample = divergence.sample(data={'N':1, 'y':[normal['value'][0]]})\n",
    "plt.hist(divergence_sample.stan_variable('mu'))\n",
    "plt.show()\n"
   ]
  },
  {
   "cell_type": "code",
   "execution_count": 2,
   "metadata": {},
   "outputs": [
    {
     "name": "stderr",
     "output_type": "stream",
     "text": [
      "INFO:cmdstanpy:compiling stan file C:\\Users\\macie\\OneDrive\\Pulpit\\All\\Studia\\AIR_2022\\Data_analytics\\Data_Analytics\\lab3\\stan2.stan to exe file C:\\Users\\macie\\OneDrive\\Pulpit\\All\\Studia\\AIR_2022\\Data_analytics\\Data_Analytics\\lab3\\stan2.exe\n",
      "INFO:cmdstanpy:compiled model executable: C:\\Users\\macie\\OneDrive\\Pulpit\\All\\Studia\\AIR_2022\\Data_analytics\\Data_Analytics\\lab3\\stan2.exe\n",
      "WARNING:cmdstanpy:Stan compiler has produced 1 warnings:\n",
      "WARNING:cmdstanpy:\n",
      "--- Translating Stan model to C++ code ---\n",
      "bin/stanc.exe  --o=C:/Users/macie/OneDrive/Pulpit/All/Studia/AIR_2022/Data_analytics/Data_Analytics/lab3/stan2.hpp C:/Users/macie/OneDrive/Pulpit/All/Studia/AIR_2022/Data_analytics/Data_Analytics/lab3/stan2.stan\n",
      "Warning in 'C:/Users/macie/OneDrive/Pulpit/All/Studia/AIR_2022/Data_analytics/Data_Analytics/lab3/stan2.stan', line 3, column 0: Declaration\n",
      "    of arrays by placing brackets after a variable name is deprecated and\n",
      "    will be removed in Stan 2.32.0. Instead use the array keyword before the\n",
      "    type. This can be changed automatically using the auto-format flag to\n",
      "    stanc\n",
      "\n",
      "--- Compiling, linking C++ code ---\n",
      "g++ -std=c++1y -m64 -D_REENTRANT -Wall -Wno-unused-function -Wno-uninitialized -Wno-unused-but-set-variable -Wno-unused-variable -Wno-sign-compare -Wno-unused-local-typedefs -Wno-int-in-bool-context -Wno-attributes -Wno-ignored-attributes      -I stan/lib/stan_math/lib/tbb_2020.3/include    -O3 -I src -I stan/src -I lib/rapidjson_1.1.0/ -I lib/CLI11-1.9.1/ -I stan/lib/stan_math/ -I stan/lib/stan_math/lib/eigen_3.3.9 -I stan/lib/stan_math/lib/boost_1.75.0 -I stan/lib/stan_math/lib/sundials_6.0.0/include -I stan/lib/stan_math/lib/sundials_6.0.0/src/sundials  -D_USE_MATH_DEFINES  -DBOOST_DISABLE_ASSERTS          -c  -x c++ -o C:/Users/macie/OneDrive/Pulpit/All/Studia/AIR_2022/Data_analytics/Data_Analytics/lab3/stan2.o C:/Users/macie/OneDrive/Pulpit/All/Studia/AIR_2022/Data_analytics/Data_Analytics/lab3/stan2.hpp\n",
      "g++ -std=c++1y -m64 -D_REENTRANT -Wall -Wno-unused-function -Wno-uninitialized -Wno-unused-but-set-variable -Wno-unused-variable -Wno-sign-compare -Wno-unused-local-typedefs -Wno-int-in-bool-context -Wno-attributes -Wno-ignored-attributes      -I stan/lib/stan_math/lib/tbb_2020.3/include    -O3 -I src -I stan/src -I lib/rapidjson_1.1.0/ -I lib/CLI11-1.9.1/ -I stan/lib/stan_math/ -I stan/lib/stan_math/lib/eigen_3.3.9 -I stan/lib/stan_math/lib/boost_1.75.0 -I stan/lib/stan_math/lib/sundials_6.0.0/include -I stan/lib/stan_math/lib/sundials_6.0.0/src/sundials  -D_USE_MATH_DEFINES  -DBOOST_DISABLE_ASSERTS                -Wl,-L,\"C:/Users/macie/anaconda3/envs/data/Library/bin/cmdstan/stan/lib/stan_math/lib/tbb\" -Wl,-rpath,\"C:/Users/macie/anaconda3/envs/data/Library/bin/cmdstan/stan/lib/stan_math/lib/tbb\"      C:/Users/macie/OneDrive/Pulpit/All/Studia/AIR_2022/Data_analytics/Data_Analytics/lab3/stan2.o src/cmdstan/main.o  -static-libgcc -static-libstdc++      -Wl,-L,\"C:/Users/macie/anaconda3/envs/data/Library/bin/cmdstan/stan/lib/stan_math/lib/tbb\" -Wl,-rpath,\"C:/Users/macie/anaconda3/envs/data/Library/bin/cmdstan/stan/lib/stan_math/lib/tbb\"   stan/lib/stan_math/lib/sundials_6.0.0/lib/libsundials_nvecserial.a stan/lib/stan_math/lib/sundials_6.0.0/lib/libsundials_cvodes.a stan/lib/stan_math/lib/sundials_6.0.0/lib/libsundials_idas.a stan/lib/stan_math/lib/sundials_6.0.0/lib/libsundials_kinsol.a  stan/lib/stan_math/lib/tbb/tbb.dll -o C:/Users/macie/OneDrive/Pulpit/All/Studia/AIR_2022/Data_analytics/Data_Analytics/lab3/stan2.exe\n",
      "rm -f C:/Users/macie/OneDrive/Pulpit/All/Studia/AIR_2022/Data_analytics/Data_Analytics/lab3/stan2.o\n",
      "\n",
      "INFO:cmdstanpy:CmdStan start processing\n",
      "chain 1 |\u001b[33m          \u001b[0m| 00:00 Status\n",
      "\u001b[A\n",
      "\n",
      "chain 1 |\u001b[34m██████████\u001b[0m| 00:00 Sampling completed\n",
      "chain 2 |\u001b[34m██████████\u001b[0m| 00:00 Sampling completed\n",
      "chain 3 |\u001b[34m██████████\u001b[0m| 00:00 Sampling completed\n",
      "chain 4 |\u001b[34m██████████\u001b[0m| 00:00 Sampling completed"
     ]
    },
    {
     "name": "stdout",
     "output_type": "stream",
     "text": [
      "                                                                                                                                                                                                                                                                                                                                "
     ]
    },
    {
     "name": "stderr",
     "output_type": "stream",
     "text": [
      "\n",
      "INFO:cmdstanpy:CmdStan done processing.\n"
     ]
    },
    {
     "name": "stdout",
     "output_type": "stream",
     "text": [
      "\n"
     ]
    },
    {
     "data": {
      "text/html": [
       "<div>\n",
       "<style scoped>\n",
       "    .dataframe tbody tr th:only-of-type {\n",
       "        vertical-align: middle;\n",
       "    }\n",
       "\n",
       "    .dataframe tbody tr th {\n",
       "        vertical-align: top;\n",
       "    }\n",
       "\n",
       "    .dataframe thead th {\n",
       "        text-align: right;\n",
       "    }\n",
       "</style>\n",
       "<table border=\"1\" class=\"dataframe\">\n",
       "  <thead>\n",
       "    <tr style=\"text-align: right;\">\n",
       "      <th></th>\n",
       "      <th>Mean</th>\n",
       "      <th>MCSE</th>\n",
       "      <th>StdDev</th>\n",
       "      <th>5%</th>\n",
       "      <th>50%</th>\n",
       "      <th>95%</th>\n",
       "      <th>N_Eff</th>\n",
       "      <th>N_Eff/s</th>\n",
       "      <th>R_hat</th>\n",
       "    </tr>\n",
       "    <tr>\n",
       "      <th>name</th>\n",
       "      <th></th>\n",
       "      <th></th>\n",
       "      <th></th>\n",
       "      <th></th>\n",
       "      <th></th>\n",
       "      <th></th>\n",
       "      <th></th>\n",
       "      <th></th>\n",
       "      <th></th>\n",
       "    </tr>\n",
       "  </thead>\n",
       "  <tbody>\n",
       "    <tr>\n",
       "      <th>lp__</th>\n",
       "      <td>-290.00</td>\n",
       "      <td>0.01800</td>\n",
       "      <td>0.720</td>\n",
       "      <td>-290.00</td>\n",
       "      <td>-290.00</td>\n",
       "      <td>-290.0</td>\n",
       "      <td>1600.0</td>\n",
       "      <td>25000.0</td>\n",
       "      <td>1.0</td>\n",
       "    </tr>\n",
       "    <tr>\n",
       "      <th>theta</th>\n",
       "      <td>0.46</td>\n",
       "      <td>0.00066</td>\n",
       "      <td>0.025</td>\n",
       "      <td>0.42</td>\n",
       "      <td>0.46</td>\n",
       "      <td>0.5</td>\n",
       "      <td>1400.0</td>\n",
       "      <td>22000.0</td>\n",
       "      <td>1.0</td>\n",
       "    </tr>\n",
       "  </tbody>\n",
       "</table>\n",
       "</div>"
      ],
      "text/plain": [
       "         Mean     MCSE  StdDev      5%     50%    95%   N_Eff  N_Eff/s  R_hat\n",
       "name                                                                         \n",
       "lp__  -290.00  0.01800   0.720 -290.00 -290.00 -290.0  1600.0  25000.0    1.0\n",
       "theta    0.46  0.00066   0.025    0.42    0.46    0.5  1400.0  22000.0    1.0"
      ]
     },
     "execution_count": 2,
     "metadata": {},
     "output_type": "execute_result"
    }
   ],
   "source": [
    "coin = pd.read_csv('https://raw.githubusercontent.com/KAIR-ISZ/public_lectures/master/Data%20Analytics%202022/Lab%203%20-%20Probability%20distribution/coin.csv')\n",
    "model = CmdStanModel(stan_file='stan2.stan')\n",
    "result = model.sample(data={\"N\" : len(coin['Toss_Result']), \"y\" : coin['Toss_Result'].to_list()}, \n",
    "                            seed = 9012022,\n",
    "                            chains = 4)\n",
    "result.summary()\n"
   ]
  },
  {
   "cell_type": "code",
   "execution_count": 3,
   "metadata": {},
   "outputs": [
    {
     "data": {
      "text/plain": [
       "array([[<AxesSubplot:title={'center':'theta'}>]], dtype=object)"
      ]
     },
     "execution_count": 3,
     "metadata": {},
     "output_type": "execute_result"
    },
    {
     "data": {
      "image/png": "[encoded data removed]",
      "text/plain": [
       "<Figure size 432x288 with 1 Axes>"
      ]
     },
     "metadata": {
      "needs_background": "light"
     },
     "output_type": "display_data"
    }
   ],
   "source": [
    "arviz_result = az.from_cmdstanpy(\n",
    "    posterior=result,\n",
    ")\n",
    "arviz_result\n",
    "\n",
    "az.plot_density(arviz_result,shade=0.1)\n"
   ]
  },
  {
   "cell_type": "code",
   "execution_count": 4,
   "metadata": {},
   "outputs": [
    {
     "name": "stderr",
     "output_type": "stream",
     "text": [
      "INFO:cmdstanpy:compiling stan file C:\\Users\\macie\\OneDrive\\Pulpit\\All\\Studia\\AIR_2022\\Data_analytics\\Data_Analytics\\lab3\\stan3.stan to exe file C:\\Users\\macie\\OneDrive\\Pulpit\\All\\Studia\\AIR_2022\\Data_analytics\\Data_Analytics\\lab3\\stan3.exe\n",
      "INFO:cmdstanpy:compiled model executable: C:\\Users\\macie\\OneDrive\\Pulpit\\All\\Studia\\AIR_2022\\Data_analytics\\Data_Analytics\\lab3\\stan3.exe\n",
      "INFO:cmdstanpy:CmdStan start processing\n",
      "chain 1 |\u001b[33m          \u001b[0m| 00:00 Status\n",
      "\u001b[A\n",
      "\n",
      "chain 1 |\u001b[34m██████████\u001b[0m| 00:00 Sampling completed\n",
      "chain 2 |\u001b[34m██████████\u001b[0m| 00:00 Sampling completed\n",
      "chain 3 |\u001b[34m██████████\u001b[0m| 00:00 Sampling completed\n",
      "chain 4 |\u001b[34m██████████\u001b[0m| 00:00 Sampling completed"
     ]
    },
    {
     "name": "stdout",
     "output_type": "stream",
     "text": [
      "                                                                                                                                                                                                                                                                                                                                "
     ]
    },
    {
     "name": "stderr",
     "output_type": "stream",
     "text": [
      "\n",
      "INFO:cmdstanpy:CmdStan done processing.\n"
     ]
    },
    {
     "name": "stdout",
     "output_type": "stream",
     "text": [
      "\n"
     ]
    },
    {
     "data": {
      "text/html": [
       "<div>\n",
       "<style scoped>\n",
       "    .dataframe tbody tr th:only-of-type {\n",
       "        vertical-align: middle;\n",
       "    }\n",
       "\n",
       "    .dataframe tbody tr th {\n",
       "        vertical-align: top;\n",
       "    }\n",
       "\n",
       "    .dataframe thead th {\n",
       "        text-align: right;\n",
       "    }\n",
       "</style>\n",
       "<table border=\"1\" class=\"dataframe\">\n",
       "  <thead>\n",
       "    <tr style=\"text-align: right;\">\n",
       "      <th></th>\n",
       "      <th>Mean</th>\n",
       "      <th>MCSE</th>\n",
       "      <th>StdDev</th>\n",
       "      <th>5%</th>\n",
       "      <th>50%</th>\n",
       "      <th>95%</th>\n",
       "      <th>N_Eff</th>\n",
       "      <th>N_Eff/s</th>\n",
       "      <th>R_hat</th>\n",
       "    </tr>\n",
       "    <tr>\n",
       "      <th>name</th>\n",
       "      <th></th>\n",
       "      <th></th>\n",
       "      <th></th>\n",
       "      <th></th>\n",
       "      <th></th>\n",
       "      <th></th>\n",
       "      <th></th>\n",
       "      <th></th>\n",
       "      <th></th>\n",
       "    </tr>\n",
       "  </thead>\n",
       "  <tbody>\n",
       "    <tr>\n",
       "      <th>lp__</th>\n",
       "      <td>-0.860</td>\n",
       "      <td>0.030</td>\n",
       "      <td>0.92</td>\n",
       "      <td>-2.80</td>\n",
       "      <td>-0.560</td>\n",
       "      <td>-0.044</td>\n",
       "      <td>940.0</td>\n",
       "      <td>11000.0</td>\n",
       "      <td>1.0</td>\n",
       "    </tr>\n",
       "    <tr>\n",
       "      <th>mu</th>\n",
       "      <td>-0.020</td>\n",
       "      <td>0.017</td>\n",
       "      <td>0.55</td>\n",
       "      <td>-0.95</td>\n",
       "      <td>-0.029</td>\n",
       "      <td>0.940</td>\n",
       "      <td>1000.0</td>\n",
       "      <td>13000.0</td>\n",
       "      <td>1.0</td>\n",
       "    </tr>\n",
       "    <tr>\n",
       "      <th>sigma</th>\n",
       "      <td>0.680</td>\n",
       "      <td>0.019</td>\n",
       "      <td>0.51</td>\n",
       "      <td>0.10</td>\n",
       "      <td>0.560</td>\n",
       "      <td>1.700</td>\n",
       "      <td>690.0</td>\n",
       "      <td>8300.0</td>\n",
       "      <td>1.0</td>\n",
       "    </tr>\n",
       "    <tr>\n",
       "      <th>y_rep[1]</th>\n",
       "      <td>-0.019</td>\n",
       "      <td>0.019</td>\n",
       "      <td>0.96</td>\n",
       "      <td>-1.50</td>\n",
       "      <td>-0.024</td>\n",
       "      <td>1.600</td>\n",
       "      <td>2544.0</td>\n",
       "      <td>30649.0</td>\n",
       "      <td>1.0</td>\n",
       "    </tr>\n",
       "  </tbody>\n",
       "</table>\n",
       "</div>"
      ],
      "text/plain": [
       "           Mean   MCSE  StdDev    5%    50%    95%   N_Eff  N_Eff/s  R_hat\n",
       "name                                                                      \n",
       "lp__     -0.860  0.030    0.92 -2.80 -0.560 -0.044   940.0  11000.0    1.0\n",
       "mu       -0.020  0.017    0.55 -0.95 -0.029  0.940  1000.0  13000.0    1.0\n",
       "sigma     0.680  0.019    0.51  0.10  0.560  1.700   690.0   8300.0    1.0\n",
       "y_rep[1] -0.019  0.019    0.96 -1.50 -0.024  1.600  2544.0  30649.0    1.0"
      ]
     },
     "execution_count": 4,
     "metadata": {},
     "output_type": "execute_result"
    }
   ],
   "source": [
    "model = CmdStanModel(stan_file='stan3.stan')\n",
    "result = model.sample(data={'N': 1, 'y':[normal['value'][0]]}, \n",
    "                            seed = 9012022,\n",
    "                            chains = 4)\n",
    "result.summary()\n"
   ]
  },
  {
   "cell_type": "code",
   "execution_count": 5,
   "metadata": {},
   "outputs": [
    {
     "ename": "NameError",
     "evalue": "name 'y' is not defined",
     "output_type": "error",
     "traceback": [
      "\u001b[1;31m---------------------------------------------------------------------------\u001b[0m",
      "\u001b[1;31mNameError\u001b[0m                                 Traceback (most recent call last)",
      "\u001b[1;32mc:\\Users\\macie\\OneDrive\\Pulpit\\All\\Studia\\AIR_2022\\Data_analytics\\Data_Analytics\\lab3\\try.ipynb Cell 5'\u001b[0m in \u001b[0;36m<cell line: 2>\u001b[1;34m()\u001b[0m\n\u001b[0;32m      <a href='vscode-notebook-cell:/c%3A/Users/macie/OneDrive/Pulpit/All/Studia/AIR_2022/Data_analytics/Data_Analytics/lab3/try.ipynb#ch0000004?line=0'>1</a>\u001b[0m \u001b[39m#Convertion to arviz InferenceData\u001b[39;00m\n\u001b[0;32m      <a href='vscode-notebook-cell:/c%3A/Users/macie/OneDrive/Pulpit/All/Studia/AIR_2022/Data_analytics/Data_Analytics/lab3/try.ipynb#ch0000004?line=1'>2</a>\u001b[0m arviz_result \u001b[39m=\u001b[39m az\u001b[39m.\u001b[39mfrom_cmdstanpy(\n\u001b[0;32m      <a href='vscode-notebook-cell:/c%3A/Users/macie/OneDrive/Pulpit/All/Studia/AIR_2022/Data_analytics/Data_Analytics/lab3/try.ipynb#ch0000004?line=2'>3</a>\u001b[0m     prior\u001b[39m=\u001b[39mresult,\n\u001b[0;32m      <a href='vscode-notebook-cell:/c%3A/Users/macie/OneDrive/Pulpit/All/Studia/AIR_2022/Data_analytics/Data_Analytics/lab3/try.ipynb#ch0000004?line=3'>4</a>\u001b[0m     prior_predictive\u001b[39m=\u001b[39m[\u001b[39m\"\u001b[39m\u001b[39my_prior\u001b[39m\u001b[39m\"\u001b[39m],\n\u001b[1;32m----> <a href='vscode-notebook-cell:/c%3A/Users/macie/OneDrive/Pulpit/All/Studia/AIR_2022/Data_analytics/Data_Analytics/lab3/try.ipynb#ch0000004?line=4'>5</a>\u001b[0m     observed_data\u001b[39m=\u001b[39m{\u001b[39m\"\u001b[39m\u001b[39my\u001b[39m\u001b[39m\"\u001b[39m: y}\n\u001b[0;32m      <a href='vscode-notebook-cell:/c%3A/Users/macie/OneDrive/Pulpit/All/Studia/AIR_2022/Data_analytics/Data_Analytics/lab3/try.ipynb#ch0000004?line=5'>6</a>\u001b[0m )\n\u001b[0;32m      <a href='vscode-notebook-cell:/c%3A/Users/macie/OneDrive/Pulpit/All/Studia/AIR_2022/Data_analytics/Data_Analytics/lab3/try.ipynb#ch0000004?line=6'>7</a>\u001b[0m arviz_result\n",
      "\u001b[1;31mNameError\u001b[0m: name 'y' is not defined"
     ]
    }
   ],
   "source": [
    "#Convertion to arviz InferenceData\n",
    "arviz_result = az.from_cmdstanpy(\n",
    "    prior=result,\n",
    "    prior_predictive=[\"y_prior\"],\n",
    "    observed_data={\"y\": y}\n",
    ")\n",
    "arviz_result"
   ]
  }
 ],
 "metadata": {
  "interpreter": {
   "hash": "52f891f0495bd774f6c84333cf5d09a4dab8fe8591a4ce1d152411b6a2857113"
  },
  "kernelspec": {
   "display_name": "Python 3.9.7 ('data')",
   "language": "python",
   "name": "python3"
  },
  "language_info": {
   "codemirror_mode": {
    "name": "ipython",
    "version": 3
   },
   "file_extension": ".py",
   "mimetype": "text/x-python",
   "name": "python",
   "nbconvert_exporter": "python",
   "pygments_lexer": "ipython3",
   "version": "3.9.7"
  },
  "orig_nbformat": 4
 },
 "nbformat": 4,
 "nbformat_minor": 2
}
