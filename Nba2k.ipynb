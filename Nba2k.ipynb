{
  "nbformat": 4,
  "nbformat_minor": 0,
  "metadata": {
    "colab": {
      "provenance": [],
      "authorship_tag": "ABX9TyPJ/q2vjfXTjplgJXmbJQMA",
      "include_colab_link": true
    },
    "kernelspec": {
      "name": "python3",
      "display_name": "Python 3"
    },
    "language_info": {
      "name": "python"
    }
  },
  "cells": [
    {
      "cell_type": "markdown",
      "metadata": {
        "id": "view-in-github",
        "colab_type": "text"
      },
      "source": [
        "<a href=\"https://colab.research.google.com/github/mKozik7/Data_Analytics/blob/main/Nba2k.ipynb\" target=\"_parent\"><img src=\"https://colab.research.google.com/assets/colab-badge.svg\" alt=\"Open In Colab\"/></a>"
      ]
    },
    {
      "cell_type": "code",
      "execution_count": 186,
      "metadata": {
        "id": "MnlFzqvlQjUz"
      },
      "outputs": [],
      "source": [
        "import numpy as np\n",
        "import pandas as pd\n",
        "import matplotlib.pyplot as plt\n",
        "import seaborn as sns\n",
        "import random\n",
        "from datetime import datetime\n",
        "currentYear = datetime.now().year\n"
      ]
    },
    {
      "cell_type": "code",
      "source": [
        "df = pd.read_csv('nba2k.csv', index_col = False)\n",
        "print(df[['full_name','salary','rating','position']])"
      ],
      "metadata": {
        "colab": {
          "base_uri": "https://localhost:8080/"
        },
        "id": "aqmANbnVSkow",
        "outputId": "d6d9a943-fcd0-4665-947c-0c80e25f16d1"
      },
      "execution_count": 187,
      "outputs": [
        {
          "output_type": "stream",
          "name": "stdout",
          "text": [
            "                 full_name    salary  rating position\n",
            "0             LeBron James  37436858      97        F\n",
            "1            Kawhi Leonard  32742000      97        F\n",
            "2    Giannis Antetokounmpo  25842697      96      F-G\n",
            "3             Kevin Durant  37199000      96        F\n",
            "4             James Harden  38199000      96        G\n",
            "..                     ...       ...     ...      ...\n",
            "434           Kevin Durant  40918900      95        F\n",
            "435          Anthony Davis  35361360      95      F-C\n",
            "436            Luka Doncic  10174391      94      G-F\n",
            "437         Damian Lillard  39344900      94        G\n",
            "438            Joel Embiid  31579390      91        C\n",
            "\n",
            "[439 rows x 4 columns]\n"
          ]
        }
      ]
    },
    {
      "cell_type": "code",
      "source": [
        "initial_population = []\n",
        "positions = ['F','F-G','C','G','G-F','C-F','F-C']\n"
      ],
      "metadata": {
        "id": "2cG29gkYS63a"
      },
      "execution_count": 188,
      "outputs": []
    },
    {
      "cell_type": "code",
      "source": [
        "def initial_population(data,n, positions):\n",
        "  init_population = []\n",
        "  for i in range(n):\n",
        "    team = []\n",
        "    for j in positions:\n",
        "      player = data[data['position'] == j].sample(1)\n",
        "      team.append(player.iloc[0].full_name)\n",
        "    init_population.append(team)\n",
        "  return init_population\n",
        "  "
      ],
      "metadata": {
        "id": "52RIJ-r6bTAB"
      },
      "execution_count": 189,
      "outputs": []
    },
    {
      "cell_type": "code",
      "source": [
        "def crossover(pop1, pop2):\n",
        "    if random.random() < probability_crossover:\n",
        "        pos = random.randint(0,len(pop1))\n",
        "        crossed_pop1 = pop1[:pos] + pop2[pos:]\n",
        "        crossed_pop2 = pop2[:pos] + pop1[pos:]\n",
        "        return [crossed_pop1, crossed_pop2]\n",
        "\n",
        "    else:\n",
        "        return [pop1,pop2]\n"
      ],
      "metadata": {
        "id": "Frp7MMCDeMmp"
      },
      "execution_count": 190,
      "outputs": []
    },
    {
      "cell_type": "code",
      "source": [
        "def mutation(indv,positions,data):\n",
        "  new_indv = indv.copy()\n",
        "  for i in range(0,len(indv)):\n",
        "    player = data[data['position'] == positions[i]].sample(1)\n",
        "    new_indv[i] = player.iloc[0]['full_name']\n",
        "  return  new_indv\n",
        "  \n",
        "    "
      ],
      "metadata": {
        "id": "fNbXR60PbaKy"
      },
      "execution_count": 191,
      "outputs": []
    },
    {
      "cell_type": "code",
      "source": [
        "def argsort_list(seq):\n",
        "    return [x for x,y in sorted(enumerate(seq), key = lambda x: x[1])]"
      ],
      "metadata": {
        "id": "o8gGM-aydAS7"
      },
      "execution_count": 192,
      "outputs": []
    },
    {
      "cell_type": "code",
      "source": [
        "def elitism(original_data, population, offspring, budget):\n",
        "    \n",
        "    scores_pop = evaluate_population(original_data, population, budget)\n",
        "    scores_offs = evaluate_population(original_data, offspring, budget)\n",
        "    \n",
        "    comp_elite = int(len(population) * elitism_size)\n",
        "    \n",
        "    population = [population[ind] for ind in argsort_list(scores_pop)]\n",
        "    offspring = [offspring[ind] for ind in argsort_list(scores_offs)]\n",
        "    \n",
        "    new_population = population[:comp_elite] + offspring[:len(population) - comp_elite]\n",
        "\n",
        "    return new_population"
      ],
      "metadata": {
        "id": "FZxzUXyTboX9"
      },
      "execution_count": 193,
      "outputs": []
    },
    {
      "cell_type": "code",
      "source": [
        "def evaluate_population(data, population, budget):\n",
        "  alpha = 0.2\n",
        "  beta = 0.6\n",
        "  gamma = 0.2\n",
        "  salary_of_team = []\n",
        "  salaries = []\n",
        "  scores = []\n",
        "  age = []\n",
        "  ratings= []\n",
        "  for team in population:\n",
        "    for player in team:\n",
        "      p = data[data[\"full_name\"] == player].iloc[0]\n",
        "      salaries.append(p[\"salary\"])\n",
        "      age.append(currentYear - p[\"draft_year\"])\n",
        "      ratings.append(p[\"rating\"])\n",
        "    if sum(salaries) > budget:\n",
        "      fitness = 0\n",
        "      scores.append(fitness)\n",
        "    else:\n",
        "      scores.append(beta * (np.median(age)*10)\n",
        "      + gamma * np.mean(ratings)*100\n",
        "      ) \n",
        "    salary_of_team.append(salaries)\n",
        "    salaries = []\n",
        "  return scores\n"
      ],
      "metadata": {
        "id": "RhjPYvRunVrL",
        "colab": {
          "base_uri": "https://localhost:8080/"
        },
        "outputId": "260ec539-b56d-44c4-fb14-39cd55b35c6c"
      },
      "execution_count": 194,
      "outputs": [
        {
          "output_type": "stream",
          "name": "stdout",
          "text": [
            "[0, 1613.7142857142858, 0, 1610.1428571428573, 1604.2857142857142, 1592.4761904761904, 1580.7755102040817, 1579.7142857142858, 1580.4126984126985, 1576.0000000000002, 0, 1580.095238095238, 1577.6043956043957, 1574.0408163265308, 0, 1574.1428571428573, 0, 0, 1581.548872180451, 1581.0, 1580.3673469387757, 0, 1583.3664596273293, 1583.0714285714287, 1581.5428571428572, 1582.7692307692307, 1583.4814814814815, 1581.8979591836735, 1582.5911330049262, 1584.3809523809523, 1583.9354838709678, 1582.7142857142858, 0, 1584.857142857143, 1584.6938775510203, 1584.936507936508, 0, 1585.684210526316, 1584.051282051282, 0, 0, 1585.1292517006805, 1584.1926910299005, 1584.857142857143, 0, 1584.4844720496897, 1585.1003039513678, 1584.797619047619, 1584.0408163265306, 0]\n"
          ]
        }
      ]
    },
    {
      "cell_type": "code",
      "source": [
        "def evolve(data,positions,budget):\n",
        "  num_iters = 50\n",
        "  scores = np.zeros(num_iters)\n",
        "  best_indv = None\n",
        "  best_score = float('+inf')\n",
        "  population = initial_population(data, n_pop, positions)\n",
        "  for it in range(num_iters):\n",
        "    pool = population\n",
        "    parents = []\n",
        "    ### Crossover\n",
        "    for j in range(0,n_pop-1,2):\n",
        "      indiv_1 = pool[j]\n",
        "      indiv_2 = pool[j+1]\n",
        "      parents.extend(crossover(indiv_1,indiv_2))\n",
        "    ### Mutation\n",
        "    offspring = []\n",
        "    for indiv in parents:\n",
        "      offspring.append(mutation(indiv,positions,data))\n",
        "    \n",
        "    \n",
        "    population = elitism(data, population, offspring, budget)\n",
        "    pop_scores = evaluate_population(data, population, budget)\n",
        "    \n",
        "    for i in range(len(pop_scores)):\n",
        "      if pop_scores[i] < best_score:\n",
        "        best_indv = pop_scores[i]\n",
        "        best_players = population[i]\n",
        "        best_score = pop_scores[i]\n",
        "    scores[it] = np.mean(pop_scores)\n",
        "    if it % 5 == 0:\n",
        "      print(\"Iteration \", it, \": Average Score:\", round(scores[it], 3), \"Best so far:\", round(best_score, 3), best_players)\n",
        "\n",
        "  plt.figure(figsize=(12, 8))\n",
        "  plt.plot(scores)\n",
        "  plt.xlabel('Iterations')\n",
        "  plt.ylabel('Score')\n",
        "  plt.title('Score Evolution')\n",
        "  plt.show()\n",
        "    \n",
        "  print('Best players for {}:'.format(positions))\n",
        "\n",
        "  for i in best_players:\n",
        "      player1 = data[data['full_name'] == i]\n",
        "      print(f'{i}:\\n\\tRating: {player1.iloc[0].rating}, Salary: {player1.iloc[0].salary}')\n",
        "            \n",
        "  print('\\nMax Budget: ', budget)\n"
      ],
      "metadata": {
        "id": "9BeFFN7mLqbL"
      },
      "execution_count": 200,
      "outputs": []
    },
    {
      "cell_type": "code",
      "source": [
        "positions = ['F','F-G','C','G','G-F','C-F','F-C']\n",
        "n_pop =50 \n",
        "n = 50\n",
        "elitism_size = 0.6\n",
        "probability_crossover = 0.85\n",
        "evolve(df,positions,80000000)"
      ],
      "metadata": {
        "colab": {
          "base_uri": "https://localhost:8080/",
          "height": 1000
        },
        "id": "Oj2CR1FeKC2U",
        "outputId": "e10d101f-d663-424e-8e27-f1703231a1e5"
      },
      "execution_count": 202,
      "outputs": [
        {
          "output_type": "stream",
          "name": "stdout",
          "text": [
            "Iteration  0 : Average Score: 870.095 Best so far: 0 ['Rodions Kurucs', 'Wilson Chandler', 'Aron Baynes', 'Stephen Curry', 'Bojan Bogdanovic', 'Al Horford', 'Ivan Rabb']\n",
            "Iteration  5 : Average Score: 198.073 Best so far: 0 ['Rodions Kurucs', 'Wilson Chandler', 'Aron Baynes', 'Stephen Curry', 'Bojan Bogdanovic', 'Al Horford', 'Ivan Rabb']\n",
            "Iteration  10 : Average Score: 295.042 Best so far: 0 ['Rodions Kurucs', 'Wilson Chandler', 'Aron Baynes', 'Stephen Curry', 'Bojan Bogdanovic', 'Al Horford', 'Ivan Rabb']\n",
            "Iteration  15 : Average Score: 360.03 Best so far: 0 ['Rodions Kurucs', 'Wilson Chandler', 'Aron Baynes', 'Stephen Curry', 'Bojan Bogdanovic', 'Al Horford', 'Ivan Rabb']\n",
            "Iteration  20 : Average Score: 328.521 Best so far: 0 ['Rodions Kurucs', 'Wilson Chandler', 'Aron Baynes', 'Stephen Curry', 'Bojan Bogdanovic', 'Al Horford', 'Ivan Rabb']\n",
            "Iteration  25 : Average Score: 262.367 Best so far: 0 ['Rodions Kurucs', 'Wilson Chandler', 'Aron Baynes', 'Stephen Curry', 'Bojan Bogdanovic', 'Al Horford', 'Ivan Rabb']\n",
            "Iteration  30 : Average Score: 131.9 Best so far: 0 ['Rodions Kurucs', 'Wilson Chandler', 'Aron Baynes', 'Stephen Curry', 'Bojan Bogdanovic', 'Al Horford', 'Ivan Rabb']\n",
            "Iteration  35 : Average Score: 197.135 Best so far: 0 ['Rodions Kurucs', 'Wilson Chandler', 'Aron Baynes', 'Stephen Curry', 'Bojan Bogdanovic', 'Al Horford', 'Ivan Rabb']\n",
            "Iteration  40 : Average Score: 32.919 Best so far: 0 ['Rodions Kurucs', 'Wilson Chandler', 'Aron Baynes', 'Stephen Curry', 'Bojan Bogdanovic', 'Al Horford', 'Ivan Rabb']\n",
            "Iteration  45 : Average Score: 196.546 Best so far: 0 ['Rodions Kurucs', 'Wilson Chandler', 'Aron Baynes', 'Stephen Curry', 'Bojan Bogdanovic', 'Al Horford', 'Ivan Rabb']\n"
          ]
        },
        {
          "output_type": "display_data",
          "data": {
            "text/plain": [
              "<Figure size 864x576 with 1 Axes>"
            ],
            "image/png": "[encoded data removed]"
          },
          "metadata": {
            "needs_background": "light"
          }
        },
        {
          "output_type": "stream",
          "name": "stdout",
          "text": [
            "Best players for ['F', 'F-G', 'C', 'G', 'G-F', 'C-F', 'F-C']:\n",
            "Rodions Kurucs:\n",
            "\tRating: 75, Salary: 1699236\n",
            "Wilson Chandler:\n",
            "\tRating: 75, Salary: 2564753\n",
            "Aron Baynes:\n",
            "\tRating: 75, Salary: 5453280\n",
            "Stephen Curry:\n",
            "\tRating: 95, Salary: 40231758\n",
            "Bojan Bogdanovic:\n",
            "\tRating: 83, Salary: 17000000\n",
            "Al Horford:\n",
            "\tRating: 85, Salary: 28000000\n",
            "Ivan Rabb:\n",
            "\tRating: 74, Salary: 451326\n",
            "\n",
            "Max Budget:  80000000\n"
          ]
        }
      ]
    }
  ]
}