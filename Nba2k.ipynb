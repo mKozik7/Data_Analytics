{
  "nbformat": 4,
  "nbformat_minor": 0,
  "metadata": {
    "colab": {
      "provenance": [],
      "authorship_tag": "ABX9TyPHPKfkCJurQX6IlEcPr52F",
      "include_colab_link": true
    },
    "kernelspec": {
      "name": "python3",
      "display_name": "Python 3"
    },
    "language_info": {
      "name": "python"
    }
  },
  "cells": [
    {
      "cell_type": "markdown",
      "metadata": {
        "id": "view-in-github",
        "colab_type": "text"
      },
      "source": [
        "<a href=\"https://colab.research.google.com/github/mKozik7/Data_Analytics/blob/main/Nba2k.ipynb\" target=\"_parent\"><img src=\"https://colab.research.google.com/assets/colab-badge.svg\" alt=\"Open In Colab\"/></a>"
      ]
    },
    {
      "cell_type": "code",
      "execution_count": 6,
      "metadata": {
        "id": "MnlFzqvlQjUz"
      },
      "outputs": [],
      "source": [
        "import numpy as np\n",
        "import pandas as pd\n",
        "import matplotlib.pyplot as plt\n",
        "import seaborn as sns\n",
        "import random"
      ]
    },
    {
      "cell_type": "code",
      "source": [
        "df = pd.read_csv('nba2k.csv', index_col = False)\n",
        "print(df[['full_name','salary','rating','position']])"
      ],
      "metadata": {
        "colab": {
          "base_uri": "https://localhost:8080/"
        },
        "id": "aqmANbnVSkow",
        "outputId": "86734b4f-8ce7-4b27-fe1d-6a92ade7a598"
      },
      "execution_count": 28,
      "outputs": [
        {
          "output_type": "stream",
          "name": "stdout",
          "text": [
            "                 full_name     salary  rating position\n",
            "0             LeBron James  $37436858      97        F\n",
            "1            Kawhi Leonard  $32742000      97        F\n",
            "2    Giannis Antetokounmpo  $25842697      96      F-G\n",
            "3             Kevin Durant  $37199000      96        F\n",
            "4             James Harden  $38199000      96        G\n",
            "..                     ...        ...     ...      ...\n",
            "434           Kevin Durant  $40918900      95        F\n",
            "435          Anthony Davis  $35361360      95      F-C\n",
            "436            Luka Doncic  $10174391      94      G-F\n",
            "437         Damian Lillard  $39344900      94        G\n",
            "438            Joel Embiid  $31579390      91        C\n",
            "\n",
            "[439 rows x 4 columns]\n"
          ]
        }
      ]
    },
    {
      "cell_type": "code",
      "source": [
        "initial_population = []\n",
        "positions = ['F','F-G','C','G','G-F','C-F','F-C']\n"
      ],
      "metadata": {
        "id": "2cG29gkYS63a"
      },
      "execution_count": 29,
      "outputs": []
    },
    {
      "cell_type": "code",
      "source": [
        "def initial_population(data,n, positions):\n",
        "  init_population = []\n",
        "  for i in range(n):\n",
        "    team = []\n",
        "    for j in positions:\n",
        "      player = data[data['position'] == j].sample(1)\n",
        "      team.append(player.iloc[0].full_name)\n",
        "    init_population.append(team)\n",
        "  return init_population\n",
        "  \n",
        "target_pos = ['F','F-G','C','G','G-F','C-F','F-C']\n",
        "n = 50\n",
        "data = df\n",
        "population = initial_population(data, n, target_pos)"
      ],
      "metadata": {
        "colab": {
          "base_uri": "https://localhost:8080/"
        },
        "id": "52RIJ-r6bTAB",
        "outputId": "5d479a5b-4df2-4d8a-ad7c-21240f2e03a0"
      },
      "execution_count": 42,
      "outputs": [
        {
          "output_type": "stream",
          "name": "stdout",
          "text": [
            "[['Ryan Broekhoff', 'Justin Jackson', 'Pau Gasol', 'Frank Ntilikina', 'Andre Roberson', 'Al Horford', 'Tyler Lydon'], ['Omari Spellman', 'Gerald Green', 'Meyers Leonard', 'Shaquille Harrison', 'CJ Miles', 'Jakob Poeltl', 'Mike Muscala'], ['Tristan Thompson', 'Mario Hezonja', 'Willie Cauley-Stein', 'Michael Frazier', 'Kevin Porter', 'Skal Labissiere', 'Bam Adebayo'], ['Moritz Wagner', 'Cedi Osman', 'Pau Gasol', 'Goran Dragic', 'Bojan Bogdanovic', 'Mason Plumlee', 'Frank Kaminsky'], ['Harrison Barnes', 'Giannis Antetokounmpo', 'Jusuf Nurkic', 'Jrue Holiday', 'DeMar DeRozan', 'Mason Plumlee', 'Tony Bradley'], ['Otto Porter', 'Gerald Green', 'Mo Bamba', 'Sviatoslav Mykhailiuk', 'Tyrone Wallace', 'Cody Zeller', 'Harry Giles'], ['Malcolm Miller', 'Cedi Osman', 'Luke Kornet', 'Shaquille Harrison', 'Luka Doncic', 'Mason Plumlee', 'TJ Leaf'], ['Doug McDermott', 'Justin Jackson', 'Steven Adams', 'Alec Burks', 'Kenrich Williams', 'Jakob Poeltl', 'Thomas Bryant'], [\"Royce O'Neale\", 'Troy Brown', 'DeMarcus Cousins', 'Wesley Matthews', 'Antonio Blakeney', 'Al Horford', 'Yante Maten'], ['Tony Snell', 'Wilson Chandler', 'Naz Reid', 'Jordan Poole', 'Andre Iguodala', 'Mason Plumlee', 'Tony Bradley'], ['Aaron Gordon', 'Nemanja Bjelica', 'Aron Baynes', 'Reggie Bullock', 'Garrett Temple', 'Cody Zeller', 'LaMarcus Aldridge'], ['Michael Porter', 'OG Anunoby', 'Deandre Ayton', 'Michael Frazier', 'Kevin Porter', 'Willy Hernangomez', 'Tony Bradley'], ['Doug McDermott', 'Cedi Osman', 'Brook Lopez', 'Lonnie Walker', 'Tyrone Wallace', 'Willy Hernangomez', 'Deyonta Davis'], ['Wesley Iwundu', 'Kelly Oubre', 'Khem Birch', 'Marcus Smart', 'Andre Iguodala', 'Cody Zeller', 'Paul Millsap'], ['Thanasis Antetokounmpo', 'Giannis Antetokounmpo', 'Daniel Theis', 'Frank Ntilikina', 'Bojan Bogdanovic', 'Cody Zeller', 'Deyonta Davis'], ['Kyle Kuzma', 'Justin Jackson', 'Aron Baynes', 'Aaron Holiday', 'Bojan Bogdanovic', 'Jakob Poeltl', 'LaMarcus Aldridge'], ['Trey Lyles', 'Troy Brown', 'JaVale McGee', 'Grayson Allen', 'Allen Crabbe', 'Skal Labissiere', 'Isaiah Hartenstein'], ['Tristan Thompson', 'Kelly Oubre', 'Nikola Jokic', 'Brad Wanamaker', 'Courtney Lee', 'Al Horford', 'Isaiah Hartenstein'], ['Grant Williams', 'Mario Hezonja', 'Alex Len', 'Rajon Rondo', 'Zhaire Smith', 'Willy Hernangomez', 'Thomas Bryant'], ['Aaron Gordon', 'Cedi Osman', 'Steven Adams', 'Ryan Arcidiacono', 'Tyrone Wallace', 'Cody Zeller', 'Tony Bradley'], ['Jeff Green', 'Kelly Oubre', 'Nicolas Claxton', 'Louis Williams', 'DeMar DeRozan', 'Jakob Poeltl', 'Dwight Powell'], ['Derrick Favors', 'Justin Jackson', 'Deandre Ayton', 'Jimmy Butler', 'Garrett Temple', 'Cody Zeller', 'Bam Adebayo'], ['Glenn Robinson III', 'Gerald Green', 'Jarrett Allen', 'Tyler Johnson', 'Garrett Temple', 'Cody Zeller', 'TJ Leaf'], ['LeBron James', 'Troy Brown', 'Deandre Ayton', 'Alex Caruso', 'Kevin Porter', 'Cody Zeller', 'Tyler Lydon'], ['JaKarr Sampson', 'Gerald Green', 'Ivica Zubac', 'Dwayne Bacon', 'Luka Doncic', 'Willy Hernangomez', 'Jordan Bell'], ['Derrick Jones', 'Wilson Chandler', 'Zach Collins', 'Dwayne Bacon', 'Courtney Lee', 'Mason Plumlee', 'Chuma Okeke'], ['Admiral Schofield', 'Justin Jackson', 'Shake Milton', 'Yogi Ferrell', 'Jonathon Simmons', 'Skal Labissiere', 'Domantas Sabonis'], ['Kevin Knox', 'Giannis Antetokounmpo', 'Nikola Vucevic', 'Deonte Burton', 'DeMar DeRozan', 'Willy Hernangomez', 'Dwight Powell'], ['Markieff Morris', 'Justin Jackson', 'Luke Kornet', 'Jrue Holiday', 'Luka Doncic', 'Al Horford', 'Bam Adebayo'], ['Johnathan Motley', 'Mikal Bridges', 'Aron Baynes', 'Coby White', 'Allen Crabbe', 'Jakob Poeltl', 'Maxi Kleber'], ['Serge Ibaka', 'Kelly Oubre', 'Joakim Noah', 'Aaron Holiday', 'Antonio Blakeney', 'Al Horford', 'Tyler Lydon'], ['Rudy Gay', 'Nicolas Batum', 'Vincent Poirier', 'Theo Pinson', 'Andre Iguodala', 'Willy Hernangomez', 'Isaiah Hartenstein'], ['Admiral Schofield', 'Nemanja Bjelica', 'Jusuf Nurkic', 'Dennis Schroeder', 'Dillon Brooks', 'Skal Labissiere', 'Tyler Lydon'], ['Kevin Knox', 'Cedi Osman', 'Gorgui Dieng', 'Dion Waiters', 'DeMar DeRozan', 'Skal Labissiere', 'Tony Bradley'], ['Noah Vonleh', 'Gerald Green', 'Naz Reid', 'Shaquille Harrison', 'Evan Turner', 'Jakob Poeltl', \"Kyle O'Quinn\"], ['Chimezie Metu', 'Wilson Chandler', 'Kelly Olynyk', 'Romeo Langford', 'Allonzo Trier', 'Jakob Poeltl', 'Anthony Davis'], ['Kevin Love', 'Kelly Oubre', 'Tyson Chandler', 'Sviatoslav Mykhailiuk', 'CJ Miles', 'Mason Plumlee', 'Tony Bradley'], ['Taj Gibson', 'Kelly Oubre', 'Vincent Poirier', 'Brad Wanamaker', 'Courtney Lee', 'Skal Labissiere', 'Henry Ellenson'], ['Melvin Frazier', 'Nicolas Batum', 'Steven Adams', 'Hamidou Diallo', 'Garrett Temple', 'Jakob Poeltl', 'Kristaps Porzingis'], ['Marvin Williams', 'Troy Brown', 'Tyson Chandler', 'Anfernee Simons', 'Luka Doncic', 'Al Horford', 'Henry Ellenson'], ['Paul George', 'OG Anunoby', 'Khem Birch', 'Jeff Teague', 'Garrett Temple', 'Al Horford', 'Thon Maker'], ['Glenn Robinson III', 'Kelly Oubre', 'Nikola Jokic', 'Ricky Rubio', 'Allonzo Trier', 'Cody Zeller', 'Bam Adebayo'], ['Otto Porter', 'Mikal Bridges', 'Brook Lopez', 'Frank Ntilikina', 'DeMar DeRozan', 'Willy Hernangomez', \"Kyle O'Quinn\"], ['Joe Ingles', 'Troy Brown', 'Joel Embiid', 'Edmond Sumner', 'Luka Doncic', 'Jakob Poeltl', 'Paul Millsap'], ['Mike Scott', 'Trevor Ariza', 'Vincent Poirier', 'Louis Williams', 'Dillon Brooks', 'Jakob Poeltl', 'Isaiah Hartenstein'], ['Danuel House', 'Wilson Chandler', 'Ivica Zubac', 'Kemba Walker', 'Luka Doncic', 'Skal Labissiere', 'Cheick Diallo'], ['Trey Lyles', 'Trevor Ariza', 'Ante Zizic', 'Austin Rivers', 'Antonio Blakeney', 'Cody Zeller', 'Lauri Markkanen']]\n"
          ]
        }
      ]
    },
    {
      "cell_type": "code",
      "source": [
        "def crossover(pop1, pop2):\n",
        "    if random.random() < probability_crossover:\n",
        "        pos = random.randint(0,len(pop1))\n",
        "        crossed_pop1 = pop1[:pos] + pop2[pos:]\n",
        "        crossed_pop2 = pop2[:pos] + pop1[pos:]\n",
        "        return [crossed_pop1, crossed_pop2]\n",
        "\n",
        "    else:\n",
        "        return [pop1,pop2]\n",
        "probability_crossover = 0.85\n"
      ],
      "metadata": {
        "id": "Frp7MMCDeMmp"
      },
      "execution_count": 37,
      "outputs": []
    },
    {
      "cell_type": "code",
      "source": [
        "parents = []\n",
        "for i in  range(0, n - 1, 2):\n",
        "  indiv_1= population[i]\n",
        "  indiv_2 = population[i+1]\n",
        "  parents.extend(crossover(indiv_1, indiv_2))\n"
      ],
      "metadata": {
        "colab": {
          "base_uri": "https://localhost:8080/"
        },
        "id": "12vHuROnj15_",
        "outputId": "70dd7204-feea-493d-d410-0cae5be49b1a"
      },
      "execution_count": 39,
      "outputs": [
        {
          "output_type": "stream",
          "name": "stdout",
          "text": [
            "[['Pascal Siakam', 'Justin Jackson', 'Kelly Olynyk', 'Yogi Ferrell', 'Kevin Porter', 'Willy Hernangomez', 'Maxi Kleber'], ['Michael Porter', 'Nemanja Bjelica', 'Naz Reid', 'Dennis Schroeder', 'Antonio Blakeney', 'Cody Zeller', 'Tony Bradley'], ['Glenn Robinson III', 'Justin Jackson', 'Jusuf Nurkic', 'Monte Morris', 'Andre Roberson', 'Cody Zeller', 'Henry Ellenson'], ['Dario Saric', 'Giannis Antetokounmpo', 'Nikola Vucevic', 'Terrance Ferguson', 'CJ Miles', 'Skal Labissiere', 'Karl-Anthony Towns'], ['PJ Tucker', 'Nicolas Batum', 'Nikola Vucevic', 'Bryn Forbes', 'Luka Doncic', 'Skal Labissiere', 'Amile Jefferson'], ['Alfonzo McKinnie', 'Justin Jackson', 'Nikola Jokic', 'Caris LeVert', 'Andre Roberson', 'Mason Plumlee', 'Maxi Kleber'], ['James Ennis', 'Nicolas Batum', 'Deandre Ayton', 'Delon Wright', 'Kevin Porter', 'Willy Hernangomez', 'Thomas Bryant'], ['Duncan Robinson', 'Giannis Antetokounmpo', 'Daniel Theis', 'Matt Thomas', 'Allonzo Trier', 'Cody Zeller', 'Yante Maten'], ['Abdel Nader', 'Gerald Green', 'Hassan Whiteside', 'Reggie Bullock', 'Allonzo Trier', 'Al Horford', 'Cheick Diallo'], ['Chandler Parsons', 'Nemanja Bjelica', 'Brook Lopez', 'Patrick Beverley', 'Tyrone Wallace', 'Skal Labissiere', \"Kyle O'Quinn\"], ['Dorian Finney-Smith', 'Wilson Chandler', 'Luke Kornet', 'Monte Morris', 'Courtney Lee', 'Mason Plumlee', 'Chris Boucher'], ['Doug McDermott', 'Wilson Chandler', 'Aron Baynes', 'Romeo Langford', 'Tyrone Wallace', 'Jakob Poeltl', 'Maxi Kleber'], ['Kyle Korver', 'Trevor Ariza', 'Boban Marjanovic', 'Kemba Walker', 'Bojan Bogdanovic', 'Skal Labissiere', 'TJ Leaf'], ['Kyle Kuzma', 'Giannis Antetokounmpo', 'Brook Lopez', 'Ricky Rubio', 'Luka Doncic', 'Skal Labissiere', 'Maxi Kleber'], ['Ed Davis', 'Gerald Green', 'Jarrett Allen', 'Marcus Smart', 'CJ Miles', 'Al Horford', 'Bobby Portis'], ['Zion Williamson', 'Kelly Oubre', 'Khem Birch', 'RJ Barrett', 'Andre Roberson', 'Cody Zeller', 'Amile Jefferson'], ['Danuel House', 'Nemanja Bjelica', 'Rudy Gobert', 'Russell Westbrook', 'Andre Roberson', 'Mason Plumlee', 'Tyler Lydon'], ['Cristiano Felicio', 'Troy Brown', 'Joakim Noah', 'Derrick White', 'Evan Turner', 'Al Horford', 'Henry Ellenson'], ['John Collins', 'Kelly Oubre', 'Kelly Olynyk', 'Collin Sexton', 'DeMar DeRozan', 'Skal Labissiere', 'Paul Millsap'], ['Dorian Finney-Smith', 'Justin Jackson', 'Nikola Jokic', \"D'Angelo Russell\", 'Luka Doncic', 'Cody Zeller', 'Ivan Rabb'], ['Moritz Wagner', 'Nemanja Bjelica', 'Nikola Jokic', 'Terance Mann', 'Tyrone Wallace', 'Willy Hernangomez', 'Harry Giles'], ['Rui Hachimura', 'Giannis Antetokounmpo', 'Hassan Whiteside', 'Matt Thomas', 'Andre Roberson', 'Al Horford', 'Chris Boucher'], ['TJ Warren', 'Cedi Osman', 'Joel Embiid', 'Rodney McGruder', 'Andre Roberson', 'Skal Labissiere', 'Amile Jefferson'], ['Alfonzo McKinnie', 'Nemanja Bjelica', 'Brook Lopez', \"E'Twaun Moore\", 'Jonathon Simmons', 'Skal Labissiere', 'Maxi Kleber'], ['Justise Winslow', 'Kelly Oubre', 'Andre Drummond', 'Malcolm Brogdon', 'Antonio Blakeney', 'Jakob Poeltl', 'Yante Maten'], ['Rodions Kurucs', 'Nemanja Bjelica', 'Enes Kanter', 'Jarrett Culver', 'Antonio Blakeney', 'Skal Labissiere', 'Miles Plumlee'], ['Darius Bazley', 'Nemanja Bjelica', 'Jonas Valanciunas', 'Terrence Ross', 'Jonathon Simmons', 'Mason Plumlee', 'Jaxson Hayes'], ['Doug McDermott', 'Mario Hezonja', 'Alex Len', 'Jalen Lecque', 'Jonathon Simmons', 'Al Horford', 'Frank Kaminsky'], ['Chimezie Metu', 'Giannis Antetokounmpo', 'DeAndre Jordan', 'Emmanuel Mudiay', 'Bojan Bogdanovic', 'Jakob Poeltl', \"Kyle O'Quinn\"], ['Wesley Iwundu', 'Giannis Antetokounmpo', 'Jusuf Nurkic', 'Donovan Mitchell', 'Luka Doncic', 'Willy Hernangomez', 'Jordan Bell'], ['Furkan Korkmaz', 'Troy Brown', 'Andre Drummond', 'Ishmael Smith', 'Antonio Blakeney', 'Mason Plumlee', 'Tony Bradley'], ['Dzanan Musa', 'Justin Jackson', 'Naz Reid', 'Luke Kennard', 'Evan Turner', 'Skal Labissiere', 'Anthony Davis'], ['Doug McDermott', 'Justin Jackson', 'Joakim Noah', 'Treveon Graham', 'Matisse Thybulle', 'Jakob Poeltl', 'Bam Adebayo'], ['Stanley Johnson', 'Kelly Oubre', 'Kelly Olynyk', 'Dejounte Murray', 'Kenrich Williams', 'Cody Zeller', 'Domantas Sabonis'], ['Kevin Knox', 'Nemanja Bjelica', 'Khem Birch', 'Brad Wanamaker', 'Luka Doncic', 'Al Horford', 'Jaxson Hayes'], ['Trey Lyles', 'Gerald Green', 'Jahlil Okafor', 'Evan Fournier', 'Kenrich Williams', 'Mason Plumlee', 'Henry Ellenson'], ['Kevin Durant', 'Wilson Chandler', 'Jusuf Nurkic', 'Jalen Lecque', 'Evan Turner', 'Skal Labissiere', 'Miles Plumlee'], ['Marvin Williams', 'Kelly Oubre', 'Ante Zizic', 'Danny Green', 'Luka Doncic', 'Jakob Poeltl', 'Thon Maker'], ['Jonah Bolden', 'Gerald Green', 'Khem Birch', 'David Nwaba', 'Antonio Blakeney', 'Willy Hernangomez', 'Chris Boucher'], ['Andrew Wiggins', 'Gerald Green', 'Jonas Valanciunas', 'Bruce Brown', 'Allonzo Trier', 'Willy Hernangomez', 'Jaxson Hayes'], [\"De'Andre Hunter\", 'Justin Jackson', 'Enes Kanter', 'George Hill', 'Andre Iguodala', 'Al Horford', 'Chuma Okeke'], ['Markieff Morris', 'Kelly Oubre', 'Joel Embiid', 'Malik Monk', 'Matisse Thybulle', 'Mason Plumlee', 'TJ Leaf'], ['Christian Wood', 'Nicolas Batum', 'Boban Marjanovic', 'Jordan McRae', 'Antonio Blakeney', 'Willy Hernangomez', 'Yante Maten'], ['Justise Winslow', 'OG Anunoby', 'Jahlil Okafor', 'Frank Mason', 'Garrett Temple', 'Mason Plumlee', 'Harry Giles'], ['JaMychal Green', 'Giannis Antetokounmpo', 'DeMarcus Cousins', 'Emmanuel Mudiay', 'Kevin Porter', 'Willy Hernangomez', 'Dwight Powell'], ['Derrick Jones', 'Giannis Antetokounmpo', 'Daniel Theis', 'Luke Kennard', 'Garrett Temple', 'Cody Zeller', 'Amile Jefferson'], ['Ed Davis', 'Gerald Green', 'Joel Embiid', 'Jordan Clarkson', 'CJ Miles', 'Al Horford', 'Cheick Diallo'], ['Derrick Favors', 'Cedi Osman', 'Andre Drummond', \"De'Aaron Fox\", 'Luka Doncic', 'Al Horford', 'TJ Leaf'], ['Rondae Hollis-Jefferson', 'Giannis Antetokounmpo', 'JaVale McGee', 'Patrick McCaw', 'Kenrich Williams', 'Skal Labissiere', 'TJ Leaf'], ['Anthony Tolliver', 'Gerald Green', 'Boban Marjanovic', 'Zach LaVine', 'Andre Iguodala', 'Cody Zeller', 'Harry Giles']]\n"
          ]
        }
      ]
    }
  ]
}