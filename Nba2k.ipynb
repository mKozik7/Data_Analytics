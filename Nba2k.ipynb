{
  "nbformat": 4,
  "nbformat_minor": 0,
  "metadata": {
    "colab": {
      "provenance": [],
      "authorship_tag": "ABX9TyOIyWu4jt6S52dckzUAVCci",
      "include_colab_link": true
    },
    "kernelspec": {
      "name": "python3",
      "display_name": "Python 3"
    },
    "language_info": {
      "name": "python"
    }
  },
  "cells": [
    {
      "cell_type": "markdown",
      "metadata": {
        "id": "view-in-github",
        "colab_type": "text"
      },
      "source": [
        "<a href=\"https://colab.research.google.com/github/mKozik7/Data_Analytics/blob/main/Nba2k.ipynb\" target=\"_parent\"><img src=\"https://colab.research.google.com/assets/colab-badge.svg\" alt=\"Open In Colab\"/></a>"
      ]
    },
    {
      "cell_type": "code",
      "execution_count": 593,
      "metadata": {
        "id": "MnlFzqvlQjUz"
      },
      "outputs": [],
      "source": [
        "import numpy as np\n",
        "import pandas as pd\n",
        "import matplotlib.pyplot as plt\n",
        "import seaborn as sns\n",
        "import random\n",
        "from datetime import datetime\n",
        "currentYear = datetime.now().year\n"
      ]
    },
    {
      "cell_type": "code",
      "source": [
        "df = pd.read_csv('nba2k.csv', index_col = False)\n",
        "print(df[['full_name','salary','rating','position']])\n",
        "df.loc[df['rating'].idxmax()]"
      ],
      "metadata": {
        "colab": {
          "base_uri": "https://localhost:8080/"
        },
        "id": "aqmANbnVSkow",
        "outputId": "c88af322-157b-4cd9-f690-17ba4c20d0b4"
      },
      "execution_count": 594,
      "outputs": [
        {
          "output_type": "stream",
          "name": "stdout",
          "text": [
            "                 full_name    salary  rating position\n",
            "0             LeBron James  37436858      97        F\n",
            "1            Kawhi Leonard  32742000      97        F\n",
            "2    Giannis Antetokounmpo  25842697      96      F-G\n",
            "3             Kevin Durant  37199000      96        F\n",
            "4             James Harden  38199000      96        G\n",
            "..                     ...       ...     ...      ...\n",
            "434           Kevin Durant  40918900      95        F\n",
            "435          Anthony Davis  35361360      95      F-C\n",
            "436            Luka Doncic  10174391      94      G-F\n",
            "437         Damian Lillard  39344900      94        G\n",
            "438            Joel Embiid  31579390      91        C\n",
            "\n",
            "[439 rows x 4 columns]\n"
          ]
        },
        {
          "output_type": "execute_result",
          "data": {
            "text/plain": [
              "full_name              LeBron James\n",
              "rating                           97\n",
              "jersey                          #23\n",
              "team             Los Angeles Lakers\n",
              "position                          F\n",
              "b_day                      12/30/84\n",
              "height                   6-9 / 2.06\n",
              "weight         250 lbs. / 113.4 kg.\n",
              "salary                     37436858\n",
              "country                         USA\n",
              "draft_year                     2003\n",
              "draft_round                       1\n",
              "draft_peak                        1\n",
              "college                         NaN\n",
              "version                     NBA2k20\n",
              "Name: 0, dtype: object"
            ]
          },
          "metadata": {},
          "execution_count": 594
        }
      ]
    },
    {
      "cell_type": "code",
      "source": [
        "initial_population = []\n",
        "positions = ['F','F-G','C','G','G-F','C-F','F-C']\n"
      ],
      "metadata": {
        "id": "2cG29gkYS63a"
      },
      "execution_count": 595,
      "outputs": []
    },
    {
      "cell_type": "code",
      "source": [
        "def initial_population(data,n, positions):\n",
        "  init_population = []\n",
        "  for i in range(n):\n",
        "    team = []\n",
        "    for j in positions:\n",
        "      player = data[data['position'] == j].sample(1)\n",
        "      team.append(player.iloc[0].full_name)\n",
        "    init_population.append(team)\n",
        "  return init_population\n",
        "  "
      ],
      "metadata": {
        "id": "52RIJ-r6bTAB"
      },
      "execution_count": 596,
      "outputs": []
    },
    {
      "cell_type": "code",
      "source": [
        "def crossover(pop1, pop2):\n",
        "    if random.random() < probability_crossover:\n",
        "        pos = random.randint(0,len(pop1))\n",
        "        crossed_pop1 = pop1[:pos] + pop2[pos:]\n",
        "        crossed_pop2 = pop2[:pos] + pop1[pos:]\n",
        "        return [crossed_pop1, crossed_pop2]\n",
        "\n",
        "    else:\n",
        "        return [pop1,pop2]\n"
      ],
      "metadata": {
        "id": "Frp7MMCDeMmp"
      },
      "execution_count": 597,
      "outputs": []
    },
    {
      "cell_type": "code",
      "source": [
        "def mutation(indv,positions,data):\n",
        "  new_indv = indv.copy()\n",
        "  for i in range(0,len(indv)):\n",
        "    player = data[data['position'] == positions[i]].sample(1)\n",
        "    new_indv[i] = player.iloc[0]['full_name']\n",
        "  return  new_indv\n",
        "  \n",
        "    "
      ],
      "metadata": {
        "id": "fNbXR60PbaKy"
      },
      "execution_count": 598,
      "outputs": []
    },
    {
      "cell_type": "code",
      "source": [
        "def argsort_list(seq):\n",
        "    return [x for x,y in sorted(enumerate(seq), key = lambda x: x[1])]"
      ],
      "metadata": {
        "id": "o8gGM-aydAS7"
      },
      "execution_count": 599,
      "outputs": []
    },
    {
      "cell_type": "code",
      "source": [
        "def elitism(original_data, population, offspring, budget):\n",
        "    \n",
        "    scores_pop = evaluate_population(original_data, population, budget)\n",
        "    scores_offs = evaluate_population(original_data, offspring, budget)\n",
        "    \n",
        "    comp_elite = int(len(population) * elitism_size)\n",
        "    \n",
        "    population = [population[ind] for ind in argsort_list(scores_pop)]\n",
        "    offspring = [offspring[ind] for ind in argsort_list(scores_offs)]\n",
        "    \n",
        "    new_population = population[:comp_elite] + offspring[:len(population) - comp_elite]\n",
        "\n",
        "    return new_population"
      ],
      "metadata": {
        "id": "FZxzUXyTboX9"
      },
      "execution_count": 600,
      "outputs": []
    },
    {
      "cell_type": "code",
      "source": [
        "def indv_value(indv, data):\n",
        "\n",
        "    accumulated_value = 0\n",
        "    for i in indv:\n",
        "        p = data[data['full_name'] == i]\n",
        "        accumulated_value += p.iloc[0].salary\n",
        "        \n",
        "    return accumulated_value\n"
      ],
      "metadata": {
        "id": "X5HPTDCvDR2D"
      },
      "execution_count": 601,
      "outputs": []
    },
    {
      "cell_type": "code",
      "source": [
        "def evaluate_population(original_data, population, budget):\n",
        "    alpha = 0.6\n",
        "    beta = 0\n",
        "    gamma = 0\n",
        "    theta = 0.4\n",
        "    \n",
        "    max_values = [budget, 21, 97, 45780966]\n",
        "    scores = []\n",
        "    for indv in population:\n",
        "        accumulated_value = []\n",
        "        ages = []\n",
        "        ratings = []\n",
        "        for i in indv:\n",
        "            p = original_data[original_data['full_name'] == i].iloc[0]\n",
        "            \n",
        "            accumulated_value.append( p.salary)\n",
        "            ages.append(currentYear - p[\"draft_year\"])\n",
        "\n",
        "            ratings.append(original_data['rating'] == p.rating)\n",
        "                \n",
        "        scores.append(round(alpha * (np.abs(budget - np.sum(accumulated_value))/max_values[0])\n",
        "                            + beta * (np.median(ages)/max_values[1]) \n",
        "                            + gamma * (np.mean(ratings)/max_values[2])\n",
        "                            + theta * (45780966-np.min(accumulated_value)/max_values[3]), 2))\n",
        "\n",
        "    return scores"
      ],
      "metadata": {
        "id": "bl2_GkwHQ-hH"
      },
      "execution_count": 602,
      "outputs": []
    },
    {
      "cell_type": "code",
      "source": [
        "def evolve(data,positions,budget):\n",
        "  num_iters = 50\n",
        "  scores = np.zeros(num_iters)\n",
        "  best_indv = None\n",
        "  best_score = float('+inf')\n",
        "  population = initial_population(data, n_pop, positions)\n",
        "  for it in range(num_iters):\n",
        "    pool = population\n",
        "    parents = []\n",
        "    ### Crossover\n",
        "    for j in range(0,n_pop-1,2):\n",
        "      indiv_1 = pool[j]\n",
        "      indiv_2 = pool[j+1]\n",
        "      parents.extend(crossover(indiv_1,indiv_2))\n",
        "    ### Mutation\n",
        "    offspring = []\n",
        "    for indiv in parents:\n",
        "      offspring.append(mutation(indiv,positions,data))\n",
        "    \n",
        "    \n",
        "    population = elitism(data, population, offspring, budget)\n",
        "    pop_scores = evaluate_population(data, population, budget)\n",
        "    \n",
        "    for i in range(len(pop_scores)):\n",
        "      if pop_scores[i] < best_score:\n",
        "        best_indv = pop_scores[i]\n",
        "        best_players = population[i]\n",
        "        best_score = pop_scores[i]\n",
        "    scores[it] = np.mean(pop_scores)\n",
        "\n",
        "    if it % 5 == 0:\n",
        "      print(\"Iteration \", it, \": Average Score:\", round(scores[it], 3), \"Best so far:\", round(best_score, 3), best_players)\n",
        "\n",
        "  plt.figure(figsize=(12, 8))\n",
        "  plt.plot(scores)\n",
        "  plt.xlabel('Iterations')\n",
        "  plt.ylabel('Score')\n",
        "  plt.title('Score Evolution')\n",
        "  plt.show()\n",
        "    \n",
        "  print('Best players for {}:'.format(positions))\n",
        "\n",
        "  for i in best_players:\n",
        "      player1 = data[data['full_name'] == i]\n",
        "      print(f'{i}:\\n\\tRating: {player1.iloc[0].rating}, Salary: {player1.iloc[0].salary}, expirence: {currentYear - player1.iloc[0].draft_year}')\n",
        "            \n",
        "  print('\\nMax Budget: ', budget)\n",
        "  print('Budget Used: ', indv_value(best_players, data))\n",
        "\n"
      ],
      "metadata": {
        "id": "9BeFFN7mLqbL"
      },
      "execution_count": 603,
      "outputs": []
    },
    {
      "cell_type": "code",
      "source": [
        "positions = ['F','F-G','C','G','G-F','C-F','F-C']\n",
        "n_pop =50 \n",
        "n = 50\n",
        "elitism_size = 0.8\n",
        "probability_crossover = 0.85\n",
        "evolve(df,positions,100000000)"
      ],
      "metadata": {
        "colab": {
          "base_uri": "https://localhost:8080/",
          "height": 1000
        },
        "id": "Oj2CR1FeKC2U",
        "outputId": "23af69e6-d406-43bc-c0a9-4498a7e2572f"
      },
      "execution_count": 604,
      "outputs": [
        {
          "output_type": "stream",
          "name": "stdout",
          "text": [
            "Iteration  0 : Average Score: 18312386.559 Best so far: 18312386.37 ['Doug McDermott', 'Mikal Bridges', 'Ian Mahinmi', 'Fred VanVleet', 'Bojan Bogdanovic', 'Al Horford', 'Myles Turner']\n",
            "Iteration  5 : Average Score: 18312386.425 Best so far: 18312386.37 ['Doug McDermott', 'Mikal Bridges', 'Ian Mahinmi', 'Fred VanVleet', 'Bojan Bogdanovic', 'Al Horford', 'Myles Turner']\n",
            "Iteration  10 : Average Score: 18312386.411 Best so far: 18312386.36 ['Michael Kidd-Gilchrist', 'Trevor Ariza', 'Kelly Olynyk', 'Langston Galloway', 'CJ Miles', 'Cody Zeller', 'Anthony Davis']\n",
            "Iteration  15 : Average Score: 18312386.405 Best so far: 18312386.36 ['Michael Kidd-Gilchrist', 'Trevor Ariza', 'Kelly Olynyk', 'Langston Galloway', 'CJ Miles', 'Cody Zeller', 'Anthony Davis']\n",
            "Iteration  20 : Average Score: 18312386.402 Best so far: 18312386.36 ['Michael Kidd-Gilchrist', 'Trevor Ariza', 'Kelly Olynyk', 'Langston Galloway', 'CJ Miles', 'Cody Zeller', 'Anthony Davis']\n",
            "Iteration  25 : Average Score: 18312386.4 Best so far: 18312386.36 ['Michael Kidd-Gilchrist', 'Trevor Ariza', 'Kelly Olynyk', 'Langston Galloway', 'CJ Miles', 'Cody Zeller', 'Anthony Davis']\n",
            "Iteration  30 : Average Score: 18312386.401 Best so far: 18312386.36 ['Michael Kidd-Gilchrist', 'Trevor Ariza', 'Kelly Olynyk', 'Langston Galloway', 'CJ Miles', 'Cody Zeller', 'Anthony Davis']\n",
            "Iteration  35 : Average Score: 18312386.395 Best so far: 18312386.36 ['Michael Kidd-Gilchrist', 'Trevor Ariza', 'Kelly Olynyk', 'Langston Galloway', 'CJ Miles', 'Cody Zeller', 'Anthony Davis']\n",
            "Iteration  40 : Average Score: 18312386.394 Best so far: 18312386.36 ['Michael Kidd-Gilchrist', 'Trevor Ariza', 'Kelly Olynyk', 'Langston Galloway', 'CJ Miles', 'Cody Zeller', 'Anthony Davis']\n",
            "Iteration  45 : Average Score: 18312386.393 Best so far: 18312386.36 ['Michael Kidd-Gilchrist', 'Trevor Ariza', 'Kelly Olynyk', 'Langston Galloway', 'CJ Miles', 'Cody Zeller', 'Anthony Davis']\n"
          ]
        },
        {
          "output_type": "display_data",
          "data": {
            "text/plain": [
              "<Figure size 864x576 with 1 Axes>"
            ],
            "image/png": "[encoded data removed]"
          },
          "metadata": {
            "needs_background": "light"
          }
        },
        {
          "output_type": "stream",
          "name": "stdout",
          "text": [
            "Best players for ['F', 'F-G', 'C', 'G', 'G-F', 'C-F', 'F-C']:\n",
            "Michael Kidd-Gilchrist:\n",
            "\tRating: 76, Salary: 12784359, expirence: 10\n",
            "Trevor Ariza:\n",
            "\tRating: 76, Salary: 12200000, expirence: 18\n",
            "Kelly Olynyk:\n",
            "\tRating: 78, Salary: 12667885, expirence: 9\n",
            "Langston Galloway:\n",
            "\tRating: 72, Salary: 7333333, expirence: 8\n",
            "CJ Miles:\n",
            "\tRating: 73, Salary: 8730158, expirence: 17\n",
            "Cody Zeller:\n",
            "\tRating: 77, Salary: 14471910, expirence: 9\n",
            "Anthony Davis:\n",
            "\tRating: 94, Salary: 27093019, expirence: 10\n",
            "\n",
            "Max Budget:  100000000\n",
            "Budget Used:  95280664\n"
          ]
        }
      ]
    }
  ]
}