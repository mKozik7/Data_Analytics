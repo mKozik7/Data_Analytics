{
 "cells": [
  {
   "cell_type": "markdown",
   "metadata": {},
   "source": [
    "<h4>Analysis of NBA player score and coorelation with efficiencyy rate.</h4>\n",
    "The problem is being approached in the project is formulation of a model describing relationship between points scored and efficiency in season.\n",
    "Reason of create a model is to answear the question. \n",
    "How many points should NBA center players score for good efficiecny rate, should managers aim for another statisitcs when they are choosing a player to the transfer? Taking into consideration only players which played more than 300 minutes in season."
   ]
  },
  {
   "cell_type": "markdown",
   "metadata": {},
   "source": [
    "The data come from https://www.kaggle.com/datasets/drgilermo/nba-players-stats-20142015/code.\n",
    "This dataset contain data about NBA player statistics from season 2014/2015. There are stats like games played, minutes, points per season,\t3 point assists, % 2 points scored, etc."
   ]
  },
  {
   "cell_type": "markdown",
   "metadata": {},
   "source": [
    "Two different models were choosen to model efficiency rate - linear and quadratic. Research provided that mean value of points scored by center players in season is around 700."
   ]
  },
  {
   "cell_type": "markdown",
   "metadata": {},
   "source": [
    "When it comes to the linear model we focus on it in the form:\n",
    "\n",
    "$$ y ~ \\mathrm{Normal}(\\alpha+X\\beta,\\sigma) $$\n"
   ]
  },
  {
   "cell_type": "markdown",
   "metadata": {},
   "source": [
    "When it comes to the quadratic model we focus on it in the form:\n",
    "\n",
    "$$ y ~ \\mathrm{Normal}(\\alpha+ X\\beta+X^2\\gamma,\\sigma) $$"
   ]
  },
  {
   "cell_type": "markdown",
   "metadata": {},
   "source": [
    "According to the look of the data Eff/Points our both coefficient for quadratic model needs to be greater than zero."
   ]
  },
  {
   "cell_type": "code",
   "execution_count": 1616,
   "metadata": {},
   "outputs": [],
   "source": [
    "import pandas as pd\n",
    "import matplotlib.pyplot as plt\n",
    "import plotly.express as px\n",
    "from cmdstanpy import CmdStanModel\n",
    "import numpy as np\n",
    "import arviz as az\n"
   ]
  },
  {
   "cell_type": "markdown",
   "metadata": {},
   "source": [
    "Data preprocessing"
   ]
  },
  {
   "cell_type": "code",
   "execution_count": 1617,
   "metadata": {},
   "outputs": [],
   "source": [
    "df = pd.read_csv('players_stats.csv')\n",
    "positions = ['C','SG','SF','PG','PF']\n",
    "df = df[df.Pos == 'C']\n",
    "df = df[df.MIN > 300]"
   ]
  },
  {
   "cell_type": "markdown",
   "metadata": {},
   "source": [
    "As we know not every position in the court is the same. According to the place in basketball court you will score as many points as possible in your position. We will check models for Center players which had been playing more than 300 minutes (it is approximatly more than full 7 games )"
   ]
  },
  {
   "cell_type": "code",
   "execution_count": 1618,
   "metadata": {},
   "outputs": [
    {
     "data": {
      "text/html": [
       "<div>\n",
       "<style scoped>\n",
       "    .dataframe tbody tr th:only-of-type {\n",
       "        vertical-align: middle;\n",
       "    }\n",
       "\n",
       "    .dataframe tbody tr th {\n",
       "        vertical-align: top;\n",
       "    }\n",
       "\n",
       "    .dataframe thead th {\n",
       "        text-align: right;\n",
       "    }\n",
       "</style>\n",
       "<table border=\"1\" class=\"dataframe\">\n",
       "  <thead>\n",
       "    <tr style=\"text-align: right;\">\n",
       "      <th></th>\n",
       "      <th>Name</th>\n",
       "      <th>Games Played</th>\n",
       "      <th>MIN</th>\n",
       "      <th>PTS</th>\n",
       "      <th>FGM</th>\n",
       "      <th>FGA</th>\n",
       "      <th>FG%</th>\n",
       "      <th>3PM</th>\n",
       "      <th>3PA</th>\n",
       "      <th>3P%</th>\n",
       "      <th>...</th>\n",
       "      <th>Age</th>\n",
       "      <th>Birth_Place</th>\n",
       "      <th>Birthdate</th>\n",
       "      <th>Collage</th>\n",
       "      <th>Experience</th>\n",
       "      <th>Height</th>\n",
       "      <th>Pos</th>\n",
       "      <th>Team</th>\n",
       "      <th>Weight</th>\n",
       "      <th>BMI</th>\n",
       "    </tr>\n",
       "  </thead>\n",
       "  <tbody>\n",
       "    <tr>\n",
       "      <th>4</th>\n",
       "      <td>Al Horford</td>\n",
       "      <td>76</td>\n",
       "      <td>2318</td>\n",
       "      <td>1156</td>\n",
       "      <td>519</td>\n",
       "      <td>965</td>\n",
       "      <td>53.8</td>\n",
       "      <td>11</td>\n",
       "      <td>36</td>\n",
       "      <td>30.6</td>\n",
       "      <td>...</td>\n",
       "      <td>29.0</td>\n",
       "      <td>do</td>\n",
       "      <td>June 3, 1986</td>\n",
       "      <td>University of Florida</td>\n",
       "      <td>7</td>\n",
       "      <td>205.0</td>\n",
       "      <td>C</td>\n",
       "      <td>ATL</td>\n",
       "      <td>110.25</td>\n",
       "      <td>26.234384</td>\n",
       "    </tr>\n",
       "    <tr>\n",
       "      <th>5</th>\n",
       "      <td>Al Jefferson</td>\n",
       "      <td>65</td>\n",
       "      <td>1992</td>\n",
       "      <td>1082</td>\n",
       "      <td>486</td>\n",
       "      <td>1010</td>\n",
       "      <td>48.1</td>\n",
       "      <td>2</td>\n",
       "      <td>5</td>\n",
       "      <td>40.0</td>\n",
       "      <td>...</td>\n",
       "      <td>30.0</td>\n",
       "      <td>us</td>\n",
       "      <td>January 4, 1985</td>\n",
       "      <td>NaN</td>\n",
       "      <td>10</td>\n",
       "      <td>205.0</td>\n",
       "      <td>C</td>\n",
       "      <td>CHA</td>\n",
       "      <td>130.05</td>\n",
       "      <td>30.945866</td>\n",
       "    </tr>\n",
       "    <tr>\n",
       "      <th>9</th>\n",
       "      <td>Alex Len</td>\n",
       "      <td>69</td>\n",
       "      <td>1518</td>\n",
       "      <td>432</td>\n",
       "      <td>179</td>\n",
       "      <td>353</td>\n",
       "      <td>50.7</td>\n",
       "      <td>1</td>\n",
       "      <td>3</td>\n",
       "      <td>33.3</td>\n",
       "      <td>...</td>\n",
       "      <td>22.0</td>\n",
       "      <td>ua</td>\n",
       "      <td>June 16, 1993</td>\n",
       "      <td>University of Maryland</td>\n",
       "      <td>1</td>\n",
       "      <td>212.5</td>\n",
       "      <td>C</td>\n",
       "      <td>PHO</td>\n",
       "      <td>117.00</td>\n",
       "      <td>25.910035</td>\n",
       "    </tr>\n",
       "    <tr>\n",
       "      <th>11</th>\n",
       "      <td>Alexis Ajinca</td>\n",
       "      <td>68</td>\n",
       "      <td>957</td>\n",
       "      <td>443</td>\n",
       "      <td>181</td>\n",
       "      <td>329</td>\n",
       "      <td>55.0</td>\n",
       "      <td>0</td>\n",
       "      <td>0</td>\n",
       "      <td>0.0</td>\n",
       "      <td>...</td>\n",
       "      <td>27.0</td>\n",
       "      <td>fr</td>\n",
       "      <td>May 6, 1988</td>\n",
       "      <td>NaN</td>\n",
       "      <td>4</td>\n",
       "      <td>215.0</td>\n",
       "      <td>C</td>\n",
       "      <td>NOH</td>\n",
       "      <td>111.60</td>\n",
       "      <td>24.142780</td>\n",
       "    </tr>\n",
       "    <tr>\n",
       "      <th>19</th>\n",
       "      <td>Andre Drummond</td>\n",
       "      <td>82</td>\n",
       "      <td>2502</td>\n",
       "      <td>1130</td>\n",
       "      <td>494</td>\n",
       "      <td>961</td>\n",
       "      <td>51.4</td>\n",
       "      <td>0</td>\n",
       "      <td>2</td>\n",
       "      <td>0.0</td>\n",
       "      <td>...</td>\n",
       "      <td>22.0</td>\n",
       "      <td>us</td>\n",
       "      <td>August 10, 1993</td>\n",
       "      <td>University of Connecticut</td>\n",
       "      <td>2</td>\n",
       "      <td>207.5</td>\n",
       "      <td>C</td>\n",
       "      <td>DET</td>\n",
       "      <td>125.55</td>\n",
       "      <td>29.159530</td>\n",
       "    </tr>\n",
       "  </tbody>\n",
       "</table>\n",
       "<p>5 rows × 34 columns</p>\n",
       "</div>"
      ],
      "text/plain": [
       "              Name  Games Played   MIN   PTS  FGM   FGA   FG%  3PM  3PA   3P%  \\\n",
       "4       Al Horford            76  2318  1156  519   965  53.8   11   36  30.6   \n",
       "5     Al Jefferson            65  1992  1082  486  1010  48.1    2    5  40.0   \n",
       "9         Alex Len            69  1518   432  179   353  50.7    1    3  33.3   \n",
       "11   Alexis Ajinca            68   957   443  181   329  55.0    0    0   0.0   \n",
       "19  Andre Drummond            82  2502  1130  494   961  51.4    0    2   0.0   \n",
       "\n",
       "    ...   Age  Birth_Place        Birthdate                    Collage  \\\n",
       "4   ...  29.0           do     June 3, 1986      University of Florida   \n",
       "5   ...  30.0           us  January 4, 1985                        NaN   \n",
       "9   ...  22.0           ua    June 16, 1993     University of Maryland   \n",
       "11  ...  27.0           fr      May 6, 1988                        NaN   \n",
       "19  ...  22.0           us  August 10, 1993  University of Connecticut   \n",
       "\n",
       "    Experience  Height  Pos  Team  Weight        BMI  \n",
       "4            7   205.0    C   ATL  110.25  26.234384  \n",
       "5           10   205.0    C   CHA  130.05  30.945866  \n",
       "9            1   212.5    C   PHO  117.00  25.910035  \n",
       "11           4   215.0    C   NOH  111.60  24.142780  \n",
       "19           2   207.5    C   DET  125.55  29.159530  \n",
       "\n",
       "[5 rows x 34 columns]"
      ]
     },
     "execution_count": 1618,
     "metadata": {},
     "output_type": "execute_result"
    }
   ],
   "source": [
    "df.head(5)\n"
   ]
  },
  {
   "cell_type": "code",
   "execution_count": 1619,
   "metadata": {},
   "outputs": [
    {
     "data": {
      "text/plain": [
       "<function matplotlib.pyplot.subplot(*args, **kwargs)>"
      ]
     },
     "execution_count": 1619,
     "metadata": {},
     "output_type": "execute_result"
    },
    {
     "data": {
      "image/png": "[encoded data removed]",
      "text/plain": [
       "<Figure size 432x288 with 1 Axes>"
      ]
     },
     "metadata": {
      "needs_background": "light"
     },
     "output_type": "display_data"
    }
   ],
   "source": [
    "plt.scatter(df['MIN']/df['Games Played'],df['PTS']/df['Games Played'])\n",
    "plt.title(\"Ratio minuts per match to points per match - Center\")\n",
    "plt.xlabel(\"Minutes per match\")\n",
    "plt.ylabel(\"Points per match\")\n",
    "plt.subplot"
   ]
  },
  {
   "cell_type": "code",
   "execution_count": 1620,
   "metadata": {},
   "outputs": [
    {
     "data": {
      "text/plain": [
       "Text(0, 0.5, 'Age')"
      ]
     },
     "execution_count": 1620,
     "metadata": {},
     "output_type": "execute_result"
    },
    {
     "data": {
      "image/png": "[encoded data removed]",
      "text/plain": [
       "<Figure size 432x288 with 1 Axes>"
      ]
     },
     "metadata": {
      "needs_background": "light"
     },
     "output_type": "display_data"
    }
   ],
   "source": [
    "plt.scatter(df['PTS'],df['Age'])\n",
    "plt.title(\"Points per match according to the age\")\n",
    "plt.xlabel(\"Points\")\n",
    "plt.ylabel(\"Age\")\n",
    "   "
   ]
  },
  {
   "cell_type": "code",
   "execution_count": 1621,
   "metadata": {},
   "outputs": [
    {
     "data": {
      "text/plain": [
       "Text(0, 0.5, 'EFF')"
      ]
     },
     "execution_count": 1621,
     "metadata": {},
     "output_type": "execute_result"
    },
    {
     "data": {
      "image/png": "[encoded data removed]",
      "text/plain": [
       "<Figure size 432x288 with 1 Axes>"
      ]
     },
     "metadata": {
      "needs_background": "light"
     },
     "output_type": "display_data"
    }
   ],
   "source": [
    "plt.scatter( df['PTS'],df[\"EFF\"], alpha=0.5)\n",
    "plt.xlabel('Points')\n",
    "plt.ylabel('EFF')"
   ]
  },
  {
   "cell_type": "markdown",
   "metadata": {},
   "source": [
    "During analysis eff rate (x) was displayed with points (y).\n",
    "According to the graph, center players doesn't score as many points as shooters for example."
   ]
  },
  {
   "cell_type": "code",
   "execution_count": 1622,
   "metadata": {},
   "outputs": [
    {
     "data": {
      "text/html": [
       "<div>\n",
       "<style scoped>\n",
       "    .dataframe tbody tr th:only-of-type {\n",
       "        vertical-align: middle;\n",
       "    }\n",
       "\n",
       "    .dataframe tbody tr th {\n",
       "        vertical-align: top;\n",
       "    }\n",
       "\n",
       "    .dataframe thead th {\n",
       "        text-align: right;\n",
       "    }\n",
       "</style>\n",
       "<table border=\"1\" class=\"dataframe\">\n",
       "  <thead>\n",
       "    <tr style=\"text-align: right;\">\n",
       "      <th></th>\n",
       "      <th>Games Played</th>\n",
       "      <th>MIN</th>\n",
       "      <th>PTS</th>\n",
       "      <th>FGM</th>\n",
       "      <th>FGA</th>\n",
       "      <th>FG%</th>\n",
       "      <th>3PM</th>\n",
       "      <th>3PA</th>\n",
       "      <th>3P%</th>\n",
       "      <th>FTM</th>\n",
       "      <th>...</th>\n",
       "      <th>BLK</th>\n",
       "      <th>TOV</th>\n",
       "      <th>PF</th>\n",
       "      <th>EFF</th>\n",
       "      <th>AST/TOV</th>\n",
       "      <th>STL/TOV</th>\n",
       "      <th>Age</th>\n",
       "      <th>Height</th>\n",
       "      <th>Weight</th>\n",
       "      <th>BMI</th>\n",
       "    </tr>\n",
       "  </thead>\n",
       "  <tbody>\n",
       "    <tr>\n",
       "      <th>count</th>\n",
       "      <td>58.000000</td>\n",
       "      <td>58.000000</td>\n",
       "      <td>58.000000</td>\n",
       "      <td>58.000000</td>\n",
       "      <td>58.000000</td>\n",
       "      <td>58.000000</td>\n",
       "      <td>58.000000</td>\n",
       "      <td>58.000000</td>\n",
       "      <td>58.000000</td>\n",
       "      <td>58.000000</td>\n",
       "      <td>...</td>\n",
       "      <td>58.000000</td>\n",
       "      <td>58.000000</td>\n",
       "      <td>58.000000</td>\n",
       "      <td>58.000000</td>\n",
       "      <td>58.000000</td>\n",
       "      <td>58.000000</td>\n",
       "      <td>58.000000</td>\n",
       "      <td>58.000000</td>\n",
       "      <td>58.000000</td>\n",
       "      <td>58.000000</td>\n",
       "    </tr>\n",
       "    <tr>\n",
       "      <th>mean</th>\n",
       "      <td>65.913793</td>\n",
       "      <td>1538.810345</td>\n",
       "      <td>617.396552</td>\n",
       "      <td>250.551724</td>\n",
       "      <td>486.017241</td>\n",
       "      <td>52.175862</td>\n",
       "      <td>4.948276</td>\n",
       "      <td>15.103448</td>\n",
       "      <td>12.084483</td>\n",
       "      <td>111.344828</td>\n",
       "      <td>...</td>\n",
       "      <td>70.741379</td>\n",
       "      <td>89.155172</td>\n",
       "      <td>156.068966</td>\n",
       "      <td>895.258621</td>\n",
       "      <td>0.925172</td>\n",
       "      <td>0.442586</td>\n",
       "      <td>27.879310</td>\n",
       "      <td>207.931034</td>\n",
       "      <td>114.292241</td>\n",
       "      <td>26.456829</td>\n",
       "    </tr>\n",
       "    <tr>\n",
       "      <th>std</th>\n",
       "      <td>13.892172</td>\n",
       "      <td>640.384683</td>\n",
       "      <td>356.313480</td>\n",
       "      <td>145.484812</td>\n",
       "      <td>289.020335</td>\n",
       "      <td>5.803578</td>\n",
       "      <td>13.478277</td>\n",
       "      <td>37.379368</td>\n",
       "      <td>15.975396</td>\n",
       "      <td>79.241924</td>\n",
       "      <td>...</td>\n",
       "      <td>44.460730</td>\n",
       "      <td>45.869686</td>\n",
       "      <td>55.659952</td>\n",
       "      <td>457.058696</td>\n",
       "      <td>0.523474</td>\n",
       "      <td>0.217744</td>\n",
       "      <td>3.875599</td>\n",
       "      <td>3.249087</td>\n",
       "      <td>6.164035</td>\n",
       "      <td>1.712727</td>\n",
       "    </tr>\n",
       "    <tr>\n",
       "      <th>min</th>\n",
       "      <td>29.000000</td>\n",
       "      <td>383.000000</td>\n",
       "      <td>87.000000</td>\n",
       "      <td>36.000000</td>\n",
       "      <td>62.000000</td>\n",
       "      <td>42.900000</td>\n",
       "      <td>0.000000</td>\n",
       "      <td>0.000000</td>\n",
       "      <td>0.000000</td>\n",
       "      <td>12.000000</td>\n",
       "      <td>...</td>\n",
       "      <td>14.000000</td>\n",
       "      <td>12.000000</td>\n",
       "      <td>53.000000</td>\n",
       "      <td>178.000000</td>\n",
       "      <td>0.180000</td>\n",
       "      <td>0.050000</td>\n",
       "      <td>21.000000</td>\n",
       "      <td>200.000000</td>\n",
       "      <td>102.600000</td>\n",
       "      <td>23.829293</td>\n",
       "    </tr>\n",
       "    <tr>\n",
       "      <th>25%</th>\n",
       "      <td>59.250000</td>\n",
       "      <td>1124.500000</td>\n",
       "      <td>329.750000</td>\n",
       "      <td>141.750000</td>\n",
       "      <td>279.500000</td>\n",
       "      <td>47.575000</td>\n",
       "      <td>0.000000</td>\n",
       "      <td>0.000000</td>\n",
       "      <td>0.000000</td>\n",
       "      <td>51.250000</td>\n",
       "      <td>...</td>\n",
       "      <td>35.500000</td>\n",
       "      <td>53.750000</td>\n",
       "      <td>121.250000</td>\n",
       "      <td>586.750000</td>\n",
       "      <td>0.560000</td>\n",
       "      <td>0.302500</td>\n",
       "      <td>25.000000</td>\n",
       "      <td>205.625000</td>\n",
       "      <td>110.250000</td>\n",
       "      <td>25.243927</td>\n",
       "    </tr>\n",
       "    <tr>\n",
       "      <th>50%</th>\n",
       "      <td>69.500000</td>\n",
       "      <td>1471.000000</td>\n",
       "      <td>554.500000</td>\n",
       "      <td>224.500000</td>\n",
       "      <td>427.000000</td>\n",
       "      <td>51.450000</td>\n",
       "      <td>0.000000</td>\n",
       "      <td>2.000000</td>\n",
       "      <td>0.000000</td>\n",
       "      <td>102.500000</td>\n",
       "      <td>...</td>\n",
       "      <td>56.500000</td>\n",
       "      <td>95.500000</td>\n",
       "      <td>162.000000</td>\n",
       "      <td>807.000000</td>\n",
       "      <td>0.775000</td>\n",
       "      <td>0.390000</td>\n",
       "      <td>27.500000</td>\n",
       "      <td>207.500000</td>\n",
       "      <td>114.300000</td>\n",
       "      <td>26.234384</td>\n",
       "    </tr>\n",
       "    <tr>\n",
       "      <th>75%</th>\n",
       "      <td>76.000000</td>\n",
       "      <td>2084.250000</td>\n",
       "      <td>799.250000</td>\n",
       "      <td>319.500000</td>\n",
       "      <td>652.750000</td>\n",
       "      <td>56.100000</td>\n",
       "      <td>2.000000</td>\n",
       "      <td>6.750000</td>\n",
       "      <td>27.775000</td>\n",
       "      <td>153.750000</td>\n",
       "      <td>...</td>\n",
       "      <td>98.750000</td>\n",
       "      <td>109.000000</td>\n",
       "      <td>201.500000</td>\n",
       "      <td>1211.500000</td>\n",
       "      <td>1.107500</td>\n",
       "      <td>0.580000</td>\n",
       "      <td>30.000000</td>\n",
       "      <td>210.000000</td>\n",
       "      <td>118.687500</td>\n",
       "      <td>27.379927</td>\n",
       "    </tr>\n",
       "    <tr>\n",
       "      <th>max</th>\n",
       "      <td>82.000000</td>\n",
       "      <td>2820.000000</td>\n",
       "      <td>1428.000000</td>\n",
       "      <td>631.000000</td>\n",
       "      <td>1206.000000</td>\n",
       "      <td>71.000000</td>\n",
       "      <td>63.000000</td>\n",
       "      <td>175.000000</td>\n",
       "      <td>50.000000</td>\n",
       "      <td>423.000000</td>\n",
       "      <td>...</td>\n",
       "      <td>189.000000</td>\n",
       "      <td>254.000000</td>\n",
       "      <td>285.000000</td>\n",
       "      <td>1949.000000</td>\n",
       "      <td>2.540000</td>\n",
       "      <td>1.040000</td>\n",
       "      <td>39.000000</td>\n",
       "      <td>215.000000</td>\n",
       "      <td>130.050000</td>\n",
       "      <td>31.275720</td>\n",
       "    </tr>\n",
       "  </tbody>\n",
       "</table>\n",
       "<p>8 rows × 27 columns</p>\n",
       "</div>"
      ],
      "text/plain": [
       "       Games Played          MIN          PTS         FGM          FGA  \\\n",
       "count     58.000000    58.000000    58.000000   58.000000    58.000000   \n",
       "mean      65.913793  1538.810345   617.396552  250.551724   486.017241   \n",
       "std       13.892172   640.384683   356.313480  145.484812   289.020335   \n",
       "min       29.000000   383.000000    87.000000   36.000000    62.000000   \n",
       "25%       59.250000  1124.500000   329.750000  141.750000   279.500000   \n",
       "50%       69.500000  1471.000000   554.500000  224.500000   427.000000   \n",
       "75%       76.000000  2084.250000   799.250000  319.500000   652.750000   \n",
       "max       82.000000  2820.000000  1428.000000  631.000000  1206.000000   \n",
       "\n",
       "             FG%        3PM         3PA        3P%         FTM  ...  \\\n",
       "count  58.000000  58.000000   58.000000  58.000000   58.000000  ...   \n",
       "mean   52.175862   4.948276   15.103448  12.084483  111.344828  ...   \n",
       "std     5.803578  13.478277   37.379368  15.975396   79.241924  ...   \n",
       "min    42.900000   0.000000    0.000000   0.000000   12.000000  ...   \n",
       "25%    47.575000   0.000000    0.000000   0.000000   51.250000  ...   \n",
       "50%    51.450000   0.000000    2.000000   0.000000  102.500000  ...   \n",
       "75%    56.100000   2.000000    6.750000  27.775000  153.750000  ...   \n",
       "max    71.000000  63.000000  175.000000  50.000000  423.000000  ...   \n",
       "\n",
       "              BLK         TOV          PF          EFF    AST/TOV    STL/TOV  \\\n",
       "count   58.000000   58.000000   58.000000    58.000000  58.000000  58.000000   \n",
       "mean    70.741379   89.155172  156.068966   895.258621   0.925172   0.442586   \n",
       "std     44.460730   45.869686   55.659952   457.058696   0.523474   0.217744   \n",
       "min     14.000000   12.000000   53.000000   178.000000   0.180000   0.050000   \n",
       "25%     35.500000   53.750000  121.250000   586.750000   0.560000   0.302500   \n",
       "50%     56.500000   95.500000  162.000000   807.000000   0.775000   0.390000   \n",
       "75%     98.750000  109.000000  201.500000  1211.500000   1.107500   0.580000   \n",
       "max    189.000000  254.000000  285.000000  1949.000000   2.540000   1.040000   \n",
       "\n",
       "             Age      Height      Weight        BMI  \n",
       "count  58.000000   58.000000   58.000000  58.000000  \n",
       "mean   27.879310  207.931034  114.292241  26.456829  \n",
       "std     3.875599    3.249087    6.164035   1.712727  \n",
       "min    21.000000  200.000000  102.600000  23.829293  \n",
       "25%    25.000000  205.625000  110.250000  25.243927  \n",
       "50%    27.500000  207.500000  114.300000  26.234384  \n",
       "75%    30.000000  210.000000  118.687500  27.379927  \n",
       "max    39.000000  215.000000  130.050000  31.275720  \n",
       "\n",
       "[8 rows x 27 columns]"
      ]
     },
     "execution_count": 1622,
     "metadata": {},
     "output_type": "execute_result"
    }
   ],
   "source": [
    "df.describe()"
   ]
  },
  {
   "cell_type": "code",
   "execution_count": 1623,
   "metadata": {},
   "outputs": [],
   "source": [
    "simulation_data = { 'N': len(df[\"PTS\"]), \"points\": np.linspace(df[\"PTS\"].min(),df[\"PTS\"].max(),num=58) }\n",
    "R = 1000\n"
   ]
  },
  {
   "cell_type": "code",
   "execution_count": 1624,
   "metadata": {},
   "outputs": [
    {
     "name": "stderr",
     "output_type": "stream",
     "text": [
      "INFO:cmdstanpy:found newer exe file, not recompiling\n",
      "INFO:cmdstanpy:CmdStan start processing\n",
      "chain 1 |\u001b[33m          \u001b[0m| 00:00 Status\n",
      "\u001b[A\n",
      "\n",
      "chain 1 |\u001b[34m██████████\u001b[0m| 00:00 Sampling completed\n",
      "chain 2 |\u001b[34m██████████\u001b[0m| 00:00 Sampling completed\n",
      "chain 3 |\u001b[34m██████████\u001b[0m| 00:00 Sampling completed\n",
      "chain 4 |\u001b[34m██████████\u001b[0m| 00:00 Sampling completed"
     ]
    },
    {
     "name": "stdout",
     "output_type": "stream",
     "text": [
      "                                                                                                                                                                                                                                                                                                                                "
     ]
    },
    {
     "name": "stderr",
     "output_type": "stream",
     "text": [
      "\n",
      "INFO:cmdstanpy:CmdStan done processing.\n"
     ]
    },
    {
     "name": "stdout",
     "output_type": "stream",
     "text": [
      "\n"
     ]
    }
   ],
   "source": [
    "model = CmdStanModel(stan_file='linear_regression.stan')\n",
    "\n",
    "simulation = model.sample(data=simulation_data, iter_sampling = R, \n",
    "                             iter_warmup = 1000,\n",
    "                             fixed_param=False,\n",
    "                             chains = 4,\n",
    "                             seed = 31052022)\n",
    "\n"
   ]
  },
  {
   "cell_type": "code",
   "execution_count": 1625,
   "metadata": {},
   "outputs": [
    {
     "data": {
      "text/html": [
       "<div>\n",
       "<style scoped>\n",
       "    .dataframe tbody tr th:only-of-type {\n",
       "        vertical-align: middle;\n",
       "    }\n",
       "\n",
       "    .dataframe tbody tr th {\n",
       "        vertical-align: top;\n",
       "    }\n",
       "\n",
       "    .dataframe thead th {\n",
       "        text-align: right;\n",
       "    }\n",
       "</style>\n",
       "<table border=\"1\" class=\"dataframe\">\n",
       "  <thead>\n",
       "    <tr style=\"text-align: right;\">\n",
       "      <th></th>\n",
       "      <th>Mean</th>\n",
       "      <th>MCSE</th>\n",
       "      <th>StdDev</th>\n",
       "      <th>5%</th>\n",
       "      <th>50%</th>\n",
       "      <th>95%</th>\n",
       "      <th>N_Eff</th>\n",
       "      <th>N_Eff/s</th>\n",
       "      <th>R_hat</th>\n",
       "    </tr>\n",
       "    <tr>\n",
       "      <th>name</th>\n",
       "      <th></th>\n",
       "      <th></th>\n",
       "      <th></th>\n",
       "      <th></th>\n",
       "      <th></th>\n",
       "      <th></th>\n",
       "      <th></th>\n",
       "      <th></th>\n",
       "      <th></th>\n",
       "    </tr>\n",
       "  </thead>\n",
       "  <tbody>\n",
       "    <tr>\n",
       "      <th>lp__</th>\n",
       "      <td>0.00</td>\n",
       "      <td>NaN</td>\n",
       "      <td>0.00</td>\n",
       "      <td>0.00</td>\n",
       "      <td>0.0</td>\n",
       "      <td>0.0</td>\n",
       "      <td>NaN</td>\n",
       "      <td>NaN</td>\n",
       "      <td>NaN</td>\n",
       "    </tr>\n",
       "    <tr>\n",
       "      <th>alpha</th>\n",
       "      <td>590.00</td>\n",
       "      <td>3.4000</td>\n",
       "      <td>220.00</td>\n",
       "      <td>220.00</td>\n",
       "      <td>590.0</td>\n",
       "      <td>920.0</td>\n",
       "      <td>4200.0</td>\n",
       "      <td>22000.0</td>\n",
       "      <td>1.0</td>\n",
       "    </tr>\n",
       "    <tr>\n",
       "      <th>beta</th>\n",
       "      <td>0.98</td>\n",
       "      <td>0.0027</td>\n",
       "      <td>0.17</td>\n",
       "      <td>0.82</td>\n",
       "      <td>1.0</td>\n",
       "      <td>1.2</td>\n",
       "      <td>4000.0</td>\n",
       "      <td>22000.0</td>\n",
       "      <td>1.0</td>\n",
       "    </tr>\n",
       "    <tr>\n",
       "      <th>sigma</th>\n",
       "      <td>100.00</td>\n",
       "      <td>0.8200</td>\n",
       "      <td>49.00</td>\n",
       "      <td>18.00</td>\n",
       "      <td>100.0</td>\n",
       "      <td>180.0</td>\n",
       "      <td>3600.0</td>\n",
       "      <td>20000.0</td>\n",
       "      <td>1.0</td>\n",
       "    </tr>\n",
       "    <tr>\n",
       "      <th>eff[1]</th>\n",
       "      <td>673.00</td>\n",
       "      <td>3.9000</td>\n",
       "      <td>246.00</td>\n",
       "      <td>262.00</td>\n",
       "      <td>679.0</td>\n",
       "      <td>1069.0</td>\n",
       "      <td>3973.0</td>\n",
       "      <td>21474.0</td>\n",
       "      <td>1.0</td>\n",
       "    </tr>\n",
       "    <tr>\n",
       "      <th>...</th>\n",
       "      <td>...</td>\n",
       "      <td>...</td>\n",
       "      <td>...</td>\n",
       "      <td>...</td>\n",
       "      <td>...</td>\n",
       "      <td>...</td>\n",
       "      <td>...</td>\n",
       "      <td>...</td>\n",
       "      <td>...</td>\n",
       "    </tr>\n",
       "    <tr>\n",
       "      <th>eff[54]</th>\n",
       "      <td>1897.00</td>\n",
       "      <td>6.1000</td>\n",
       "      <td>385.00</td>\n",
       "      <td>1429.00</td>\n",
       "      <td>1930.0</td>\n",
       "      <td>2375.0</td>\n",
       "      <td>4012.0</td>\n",
       "      <td>21688.0</td>\n",
       "      <td>1.0</td>\n",
       "    </tr>\n",
       "    <tr>\n",
       "      <th>eff[55]</th>\n",
       "      <td>1917.00</td>\n",
       "      <td>6.1000</td>\n",
       "      <td>387.00</td>\n",
       "      <td>1448.00</td>\n",
       "      <td>1950.0</td>\n",
       "      <td>2395.0</td>\n",
       "      <td>4037.0</td>\n",
       "      <td>21821.0</td>\n",
       "      <td>1.0</td>\n",
       "    </tr>\n",
       "    <tr>\n",
       "      <th>eff[56]</th>\n",
       "      <td>1938.00</td>\n",
       "      <td>6.1000</td>\n",
       "      <td>392.00</td>\n",
       "      <td>1462.00</td>\n",
       "      <td>1967.0</td>\n",
       "      <td>2428.0</td>\n",
       "      <td>4080.0</td>\n",
       "      <td>22054.0</td>\n",
       "      <td>1.0</td>\n",
       "    </tr>\n",
       "    <tr>\n",
       "      <th>eff[57]</th>\n",
       "      <td>1966.00</td>\n",
       "      <td>6.2000</td>\n",
       "      <td>394.00</td>\n",
       "      <td>1508.00</td>\n",
       "      <td>2002.0</td>\n",
       "      <td>2456.0</td>\n",
       "      <td>3998.0</td>\n",
       "      <td>21609.0</td>\n",
       "      <td>1.0</td>\n",
       "    </tr>\n",
       "    <tr>\n",
       "      <th>eff[58]</th>\n",
       "      <td>1988.00</td>\n",
       "      <td>6.3000</td>\n",
       "      <td>396.00</td>\n",
       "      <td>1520.00</td>\n",
       "      <td>2022.0</td>\n",
       "      <td>2482.0</td>\n",
       "      <td>4007.0</td>\n",
       "      <td>21661.0</td>\n",
       "      <td>1.0</td>\n",
       "    </tr>\n",
       "  </tbody>\n",
       "</table>\n",
       "<p>62 rows × 9 columns</p>\n",
       "</div>"
      ],
      "text/plain": [
       "            Mean    MCSE  StdDev       5%     50%     95%   N_Eff  N_Eff/s  \\\n",
       "name                                                                         \n",
       "lp__        0.00     NaN    0.00     0.00     0.0     0.0     NaN      NaN   \n",
       "alpha     590.00  3.4000  220.00   220.00   590.0   920.0  4200.0  22000.0   \n",
       "beta        0.98  0.0027    0.17     0.82     1.0     1.2  4000.0  22000.0   \n",
       "sigma     100.00  0.8200   49.00    18.00   100.0   180.0  3600.0  20000.0   \n",
       "eff[1]    673.00  3.9000  246.00   262.00   679.0  1069.0  3973.0  21474.0   \n",
       "...          ...     ...     ...      ...     ...     ...     ...      ...   \n",
       "eff[54]  1897.00  6.1000  385.00  1429.00  1930.0  2375.0  4012.0  21688.0   \n",
       "eff[55]  1917.00  6.1000  387.00  1448.00  1950.0  2395.0  4037.0  21821.0   \n",
       "eff[56]  1938.00  6.1000  392.00  1462.00  1967.0  2428.0  4080.0  22054.0   \n",
       "eff[57]  1966.00  6.2000  394.00  1508.00  2002.0  2456.0  3998.0  21609.0   \n",
       "eff[58]  1988.00  6.3000  396.00  1520.00  2022.0  2482.0  4007.0  21661.0   \n",
       "\n",
       "         R_hat  \n",
       "name            \n",
       "lp__       NaN  \n",
       "alpha      1.0  \n",
       "beta       1.0  \n",
       "sigma      1.0  \n",
       "eff[1]     1.0  \n",
       "...        ...  \n",
       "eff[54]    1.0  \n",
       "eff[55]    1.0  \n",
       "eff[56]    1.0  \n",
       "eff[57]    1.0  \n",
       "eff[58]    1.0  \n",
       "\n",
       "[62 rows x 9 columns]"
      ]
     },
     "execution_count": 1625,
     "metadata": {},
     "output_type": "execute_result"
    }
   ],
   "source": [
    "simulation.summary()"
   ]
  },
  {
   "cell_type": "markdown",
   "metadata": {},
   "source": [
    "<h4>Prior for linear model</h4>"
   ]
  },
  {
   "cell_type": "markdown",
   "metadata": {},
   "source": [
    "Research showed that approximatly center player are scoring about 700 points per season (center which played more than 300 minutes). Linear and quadratic models uses preditors - points. For the linear model the priors were selected based on observations"
   ]
  },
  {
   "cell_type": "code",
   "execution_count": 1626,
   "metadata": {},
   "outputs": [],
   "source": [
    "alpha_linear_ppc = simulation.stan_variable('alpha')\n",
    "beta_linear_ppc = simulation.stan_variable('beta')\n",
    "sigma_linear_ppc = simulation.stan_variable('sigma')\n",
    "eff_linear_pcc = simulation.stan_variable('eff')"
   ]
  },
  {
   "cell_type": "code",
   "execution_count": 1627,
   "metadata": {},
   "outputs": [
    {
     "data": {
      "image/png": "[encoded data removed]",
      "text/plain": [
       "<Figure size 432x288 with 1 Axes>"
      ]
     },
     "metadata": {
      "needs_background": "light"
     },
     "output_type": "display_data"
    },
    {
     "data": {
      "image/png": "[encoded data removed]",
      "text/plain": [
       "<Figure size 432x288 with 1 Axes>"
      ]
     },
     "metadata": {
      "needs_background": "light"
     },
     "output_type": "display_data"
    },
    {
     "data": {
      "image/png": "[encoded data removed]",
      "text/plain": [
       "<Figure size 432x288 with 1 Axes>"
      ]
     },
     "metadata": {
      "needs_background": "light"
     },
     "output_type": "display_data"
    }
   ],
   "source": [
    "for signs in ['alpha', 'beta', 'sigma']:\n",
    "    plt.hist(simulation.stan_variable(signs), bins=15)\n",
    "    plt.title(signs)\n",
    "    plt.show()"
   ]
  },
  {
   "cell_type": "code",
   "execution_count": 1628,
   "metadata": {},
   "outputs": [
    {
     "data": {
      "text/plain": [
       "Text(0, 0.5, 'eff')"
      ]
     },
     "execution_count": 1628,
     "metadata": {},
     "output_type": "execute_result"
    },
    {
     "data": {
      "image/png": "[encoded data removed]",
      "text/plain": [
       "<Figure size 504x288 with 1 Axes>"
      ]
     },
     "metadata": {
      "needs_background": "light"
     },
     "output_type": "display_data"
    }
   ],
   "source": [
    "fig, axes = plt.subplots(1,1, figsize = (7,4))\n",
    "axes.hlines([0, 2500], xmin = df['PTS'].min(), \n",
    "            xmax = df['PTS'].max(), linestyle = '--', color = 'black')\n",
    "for i in range(60):\n",
    "    axes.plot(df['PTS'], \n",
    "              alpha_linear_ppc[i] + beta_linear_ppc[i]*df['PTS'], alpha=0.5)\n",
    "axes.set_xlabel('points', fontsize = 6)\n",
    "axes.set_ylabel('eff', fontsize = 6)"
   ]
  },
  {
   "cell_type": "markdown",
   "metadata": {},
   "source": [
    "Prior seems to fit the actual data, it covers all data range."
   ]
  },
  {
   "cell_type": "markdown",
   "metadata": {},
   "source": [
    "<h2>Linear model - posterior</h2>"
   ]
  },
  {
   "cell_type": "code",
   "execution_count": 1629,
   "metadata": {},
   "outputs": [
    {
     "name": "stdout",
     "output_type": "stream",
     "text": [
      "data {\n",
      "   int N;\n",
      "   vector[N] points;\n",
      "   real effs[N];\n",
      "}\n",
      "\n",
      "parameters {\n",
      "   real alpha;\n",
      "   real beta;\n",
      "   real <lower=0> sigma;\n",
      "}\n",
      "\n",
      "transformed parameters {\n",
      "   vector[N] mu = points*beta+alpha;\n",
      "}\n",
      "\n",
      "model {\n",
      "   alpha ~ normal(600, 200);\n",
      "\tbeta ~ normal(2, 0.5);\n",
      "   sigma ~ normal(300, 50);\n",
      "   effs ~ normal(mu, sigma);\n",
      "}\n",
      "\n",
      "generated quantities {\n",
      "   array [N] real eff;\n",
      "   vector[N] log_lik;\n",
      "   array[N] real y_hat;\n",
      "\n",
      "   for (i in 1:N) {\n",
      "       eff[i] = normal_rng(mu[i], sigma);\n",
      "       log_lik[i] = normal_lpdf(eff[i] | mu[i], sigma);\n",
      "      y_hat[i] = normal_rng(mu[i], sigma);\n",
      "\n",
      "   }\n",
      "}\n"
     ]
    }
   ],
   "source": [
    "with open('gen_lin.stan', 'r') as file:\n",
    "    print(file.read())"
   ]
  },
  {
   "cell_type": "code",
   "execution_count": 1630,
   "metadata": {},
   "outputs": [],
   "source": [
    "simulation_data = { 'N': len(df),  'effs': df['EFF'], \"points\": df[\"PTS\"]  }\n"
   ]
  },
  {
   "cell_type": "code",
   "execution_count": 1631,
   "metadata": {},
   "outputs": [
    {
     "name": "stderr",
     "output_type": "stream",
     "text": [
      "INFO:cmdstanpy:found newer exe file, not recompiling\n",
      "INFO:cmdstanpy:CmdStan start processing\n",
      "chain 1 |\u001b[33m          \u001b[0m| 00:00 Status\n",
      "\u001b[A\n",
      "\n",
      "chain 1 |\u001b[33m████      \u001b[0m| 00:00 Iteration:  700 / 2000 [ 35%]  (Warmup)\n",
      "\u001b[A\n",
      "\n",
      "chain 1 |\u001b[34m██████████\u001b[0m| 00:00 Sampling completed                       \n",
      "chain 2 |\u001b[34m██████████\u001b[0m| 00:00 Sampling completed                       \n",
      "chain 3 |\u001b[34m██████████\u001b[0m| 00:00 Sampling completed                       \n",
      "chain 4 |\u001b[34m██████████\u001b[0m| 00:00 Sampling completed                       "
     ]
    },
    {
     "name": "stdout",
     "output_type": "stream",
     "text": [
      "                                                                                                                                                                                                                                                                                                                                "
     ]
    },
    {
     "name": "stderr",
     "output_type": "stream",
     "text": [
      "\n",
      "INFO:cmdstanpy:CmdStan done processing.\n"
     ]
    },
    {
     "name": "stdout",
     "output_type": "stream",
     "text": [
      "\n"
     ]
    }
   ],
   "source": [
    "model_pos_linear = CmdStanModel(stan_file='gen_lin.stan')\n",
    "simulation_pos = model_pos_linear.sample(data=simulation_data)"
   ]
  },
  {
   "cell_type": "markdown",
   "metadata": {},
   "source": [
    "No problems with samplings"
   ]
  },
  {
   "cell_type": "code",
   "execution_count": 1632,
   "metadata": {},
   "outputs": [],
   "source": [
    "alpha_linear_fit = simulation_pos.stan_variable('alpha')\n",
    "beta_linear_fit = simulation_pos.stan_variable('beta')\n",
    "sigma_linear_fit = simulation_pos.stan_variable('sigma')\n",
    "eff_linear_fit = simulation_pos.stan_variable('eff')"
   ]
  },
  {
   "cell_type": "code",
   "execution_count": 1633,
   "metadata": {},
   "outputs": [
    {
     "data": {
      "text/plain": [
       "'Processing csv files: C:\\\\Users\\\\macie\\\\AppData\\\\Local\\\\Temp\\\\tmpq900vzzx\\\\gen_lin-20220621020523_1.csv, C:\\\\Users\\\\macie\\\\AppData\\\\Local\\\\Temp\\\\tmpq900vzzx\\\\gen_lin-20220621020523_2.csv, C:\\\\Users\\\\macie\\\\AppData\\\\Local\\\\Temp\\\\tmpq900vzzx\\\\gen_lin-20220621020523_3.csv, C:\\\\Users\\\\macie\\\\AppData\\\\Local\\\\Temp\\\\tmpq900vzzx\\\\gen_lin-20220621020523_4.csv\\n\\nChecking sampler transitions treedepth.\\nTreedepth satisfactory for all transitions.\\n\\nChecking sampler transitions for divergences.\\nNo divergent transitions found.\\n\\nChecking E-BFMI - sampler transitions HMC potential energy.\\nE-BFMI satisfactory.\\n\\nEffective sample size satisfactory.\\n\\nSplit R-hat values satisfactory all parameters.\\n\\nProcessing complete, no problems detected.\\n'"
      ]
     },
     "execution_count": 1633,
     "metadata": {},
     "output_type": "execute_result"
    }
   ],
   "source": [
    "simulation_pos.diagnose()"
   ]
  },
  {
   "cell_type": "code",
   "execution_count": 1634,
   "metadata": {},
   "outputs": [
    {
     "data": {
      "text/html": [
       "<div>\n",
       "<style scoped>\n",
       "    .dataframe tbody tr th:only-of-type {\n",
       "        vertical-align: middle;\n",
       "    }\n",
       "\n",
       "    .dataframe tbody tr th {\n",
       "        vertical-align: top;\n",
       "    }\n",
       "\n",
       "    .dataframe thead th {\n",
       "        text-align: right;\n",
       "    }\n",
       "</style>\n",
       "<table border=\"1\" class=\"dataframe\">\n",
       "  <thead>\n",
       "    <tr style=\"text-align: right;\">\n",
       "      <th></th>\n",
       "      <th>mean</th>\n",
       "      <th>sd</th>\n",
       "      <th>hdi_3%</th>\n",
       "      <th>hdi_97%</th>\n",
       "      <th>mcse_mean</th>\n",
       "      <th>mcse_sd</th>\n",
       "      <th>ess_bulk</th>\n",
       "      <th>ess_tail</th>\n",
       "      <th>r_hat</th>\n",
       "    </tr>\n",
       "  </thead>\n",
       "  <tbody>\n",
       "    <tr>\n",
       "      <th>alpha</th>\n",
       "      <td>200.114</td>\n",
       "      <td>53.658</td>\n",
       "      <td>97.498</td>\n",
       "      <td>301.361</td>\n",
       "      <td>1.313</td>\n",
       "      <td>0.928</td>\n",
       "      <td>1700.0</td>\n",
       "      <td>1471.0</td>\n",
       "      <td>1.0</td>\n",
       "    </tr>\n",
       "    <tr>\n",
       "      <th>beta</th>\n",
       "      <td>1.138</td>\n",
       "      <td>0.077</td>\n",
       "      <td>0.994</td>\n",
       "      <td>1.285</td>\n",
       "      <td>0.002</td>\n",
       "      <td>0.001</td>\n",
       "      <td>1651.0</td>\n",
       "      <td>1699.0</td>\n",
       "      <td>1.0</td>\n",
       "    </tr>\n",
       "    <tr>\n",
       "      <th>sigma</th>\n",
       "      <td>218.337</td>\n",
       "      <td>21.180</td>\n",
       "      <td>179.783</td>\n",
       "      <td>257.571</td>\n",
       "      <td>0.440</td>\n",
       "      <td>0.314</td>\n",
       "      <td>2379.0</td>\n",
       "      <td>2131.0</td>\n",
       "      <td>1.0</td>\n",
       "    </tr>\n",
       "    <tr>\n",
       "      <th>mu[0]</th>\n",
       "      <td>1515.835</td>\n",
       "      <td>52.103</td>\n",
       "      <td>1417.070</td>\n",
       "      <td>1612.860</td>\n",
       "      <td>1.012</td>\n",
       "      <td>0.717</td>\n",
       "      <td>2666.0</td>\n",
       "      <td>2445.0</td>\n",
       "      <td>1.0</td>\n",
       "    </tr>\n",
       "    <tr>\n",
       "      <th>mu[1]</th>\n",
       "      <td>1431.610</td>\n",
       "      <td>47.435</td>\n",
       "      <td>1344.060</td>\n",
       "      <td>1522.430</td>\n",
       "      <td>0.881</td>\n",
       "      <td>0.624</td>\n",
       "      <td>2914.0</td>\n",
       "      <td>2563.0</td>\n",
       "      <td>1.0</td>\n",
       "    </tr>\n",
       "    <tr>\n",
       "      <th>...</th>\n",
       "      <td>...</td>\n",
       "      <td>...</td>\n",
       "      <td>...</td>\n",
       "      <td>...</td>\n",
       "      <td>...</td>\n",
       "      <td>...</td>\n",
       "      <td>...</td>\n",
       "      <td>...</td>\n",
       "      <td>...</td>\n",
       "    </tr>\n",
       "    <tr>\n",
       "      <th>y_hat[53]</th>\n",
       "      <td>686.113</td>\n",
       "      <td>221.805</td>\n",
       "      <td>271.639</td>\n",
       "      <td>1092.730</td>\n",
       "      <td>3.439</td>\n",
       "      <td>2.443</td>\n",
       "      <td>4159.0</td>\n",
       "      <td>3972.0</td>\n",
       "      <td>1.0</td>\n",
       "    </tr>\n",
       "    <tr>\n",
       "      <th>y_hat[54]</th>\n",
       "      <td>1418.273</td>\n",
       "      <td>219.094</td>\n",
       "      <td>1020.490</td>\n",
       "      <td>1851.150</td>\n",
       "      <td>3.501</td>\n",
       "      <td>2.476</td>\n",
       "      <td>3910.0</td>\n",
       "      <td>3988.0</td>\n",
       "      <td>1.0</td>\n",
       "    </tr>\n",
       "    <tr>\n",
       "      <th>y_hat[55]</th>\n",
       "      <td>1095.696</td>\n",
       "      <td>218.932</td>\n",
       "      <td>672.358</td>\n",
       "      <td>1500.870</td>\n",
       "      <td>3.477</td>\n",
       "      <td>2.472</td>\n",
       "      <td>3974.0</td>\n",
       "      <td>3816.0</td>\n",
       "      <td>1.0</td>\n",
       "    </tr>\n",
       "    <tr>\n",
       "      <th>y_hat[56]</th>\n",
       "      <td>1076.053</td>\n",
       "      <td>222.456</td>\n",
       "      <td>639.212</td>\n",
       "      <td>1470.010</td>\n",
       "      <td>3.515</td>\n",
       "      <td>2.487</td>\n",
       "      <td>4003.0</td>\n",
       "      <td>3632.0</td>\n",
       "      <td>1.0</td>\n",
       "    </tr>\n",
       "    <tr>\n",
       "      <th>y_hat[57]</th>\n",
       "      <td>892.415</td>\n",
       "      <td>222.887</td>\n",
       "      <td>468.957</td>\n",
       "      <td>1307.480</td>\n",
       "      <td>3.566</td>\n",
       "      <td>2.522</td>\n",
       "      <td>3904.0</td>\n",
       "      <td>3853.0</td>\n",
       "      <td>1.0</td>\n",
       "    </tr>\n",
       "  </tbody>\n",
       "</table>\n",
       "<p>177 rows × 9 columns</p>\n",
       "</div>"
      ],
      "text/plain": [
       "               mean       sd    hdi_3%   hdi_97%  mcse_mean  mcse_sd  \\\n",
       "alpha       200.114   53.658    97.498   301.361      1.313    0.928   \n",
       "beta          1.138    0.077     0.994     1.285      0.002    0.001   \n",
       "sigma       218.337   21.180   179.783   257.571      0.440    0.314   \n",
       "mu[0]      1515.835   52.103  1417.070  1612.860      1.012    0.717   \n",
       "mu[1]      1431.610   47.435  1344.060  1522.430      0.881    0.624   \n",
       "...             ...      ...       ...       ...        ...      ...   \n",
       "y_hat[53]   686.113  221.805   271.639  1092.730      3.439    2.443   \n",
       "y_hat[54]  1418.273  219.094  1020.490  1851.150      3.501    2.476   \n",
       "y_hat[55]  1095.696  218.932   672.358  1500.870      3.477    2.472   \n",
       "y_hat[56]  1076.053  222.456   639.212  1470.010      3.515    2.487   \n",
       "y_hat[57]   892.415  222.887   468.957  1307.480      3.566    2.522   \n",
       "\n",
       "           ess_bulk  ess_tail  r_hat  \n",
       "alpha        1700.0    1471.0    1.0  \n",
       "beta         1651.0    1699.0    1.0  \n",
       "sigma        2379.0    2131.0    1.0  \n",
       "mu[0]        2666.0    2445.0    1.0  \n",
       "mu[1]        2914.0    2563.0    1.0  \n",
       "...             ...       ...    ...  \n",
       "y_hat[53]    4159.0    3972.0    1.0  \n",
       "y_hat[54]    3910.0    3988.0    1.0  \n",
       "y_hat[55]    3974.0    3816.0    1.0  \n",
       "y_hat[56]    4003.0    3632.0    1.0  \n",
       "y_hat[57]    3904.0    3853.0    1.0  \n",
       "\n",
       "[177 rows x 9 columns]"
      ]
     },
     "execution_count": 1634,
     "metadata": {},
     "output_type": "execute_result"
    }
   ],
   "source": [
    "az.summary(simulation_pos)"
   ]
  },
  {
   "cell_type": "code",
   "execution_count": 1635,
   "metadata": {},
   "outputs": [
    {
     "data": {
      "text/plain": [
       "Text(0, 0.5, 'eff')"
      ]
     },
     "execution_count": 1635,
     "metadata": {},
     "output_type": "execute_result"
    },
    {
     "data": {
      "image/png": "[encoded data removed]",
      "text/plain": [
       "<Figure size 504x288 with 1 Axes>"
      ]
     },
     "metadata": {
      "needs_background": "light"
     },
     "output_type": "display_data"
    }
   ],
   "source": [
    "fig, axes = plt.subplots(1,1, figsize = (7,4))\n",
    "axes.hlines([0, 2100], xmin = df['PTS'].min(), \n",
    "            xmax = df['PTS'].max(), linestyle = '--', color = 'black')\n",
    "for i in range(60):\n",
    "    axes.plot(df['PTS'], \n",
    "              alpha_linear_fit[i] + beta_linear_fit[i]*df['PTS'], alpha=0.5)\n",
    "axes.scatter(df['PTS'], df['EFF'], \n",
    "             color = 'black', alpha = 0.8, s=10)\n",
    "axes.set_xlabel('points', fontsize = 6)\n",
    "axes.set_ylabel('eff', fontsize = 6)"
   ]
  },
  {
   "cell_type": "markdown",
   "metadata": {},
   "source": [
    "The parameters looks like normal distribution. The data is consistent with prior generation. Posterior is inline with actual data."
   ]
  },
  {
   "cell_type": "code",
   "execution_count": 1636,
   "metadata": {},
   "outputs": [
    {
     "data": {
      "image/png": "[encoded data removed]",
      "text/plain": [
       "<Figure size 432x288 with 1 Axes>"
      ]
     },
     "metadata": {
      "needs_background": "light"
     },
     "output_type": "display_data"
    },
    {
     "data": {
      "image/png": "[encoded data removed]",
      "text/plain": [
       "<Figure size 432x288 with 1 Axes>"
      ]
     },
     "metadata": {
      "needs_background": "light"
     },
     "output_type": "display_data"
    },
    {
     "data": {
      "image/png": "[encoded data removed]",
      "text/plain": [
       "<Figure size 432x288 with 1 Axes>"
      ]
     },
     "metadata": {
      "needs_background": "light"
     },
     "output_type": "display_data"
    }
   ],
   "source": [
    "for var in ['alpha', 'beta', 'sigma']:\n",
    "    plt.hist(simulation_pos.stan_variable(var), bins=15)\n",
    "    plt.title(var)\n",
    "    plt.show()"
   ]
  },
  {
   "cell_type": "markdown",
   "metadata": {},
   "source": [
    "Posterior is similar to prior, but the curves are closer to each other"
   ]
  },
  {
   "cell_type": "markdown",
   "metadata": {},
   "source": [
    "<h2>Quadratic prior</h2>"
   ]
  },
  {
   "cell_type": "markdown",
   "metadata": {},
   "source": [
    "The prior were selected exactly the same as in linear model, but according to the values, gamma have to have  negative values. As we know in some point the function will slow down or event tend to stop. That's why our gamma should have negative values"
   ]
  },
  {
   "cell_type": "code",
   "execution_count": 1637,
   "metadata": {},
   "outputs": [
    {
     "name": "stderr",
     "output_type": "stream",
     "text": [
      "INFO:cmdstanpy:found newer exe file, not recompiling\n"
     ]
    }
   ],
   "source": [
    "model_squared = CmdStanModel(stan_file = 'quadratic.stan')"
   ]
  },
  {
   "cell_type": "code",
   "execution_count": 1638,
   "metadata": {},
   "outputs": [
    {
     "name": "stderr",
     "output_type": "stream",
     "text": [
      "INFO:cmdstanpy:CmdStan start processing\n",
      "chain 1 |\u001b[34m██████████\u001b[0m| 00:00 Sampling completed"
     ]
    },
    {
     "name": "stdout",
     "output_type": "stream",
     "text": [
      "                                                                                "
     ]
    },
    {
     "name": "stderr",
     "output_type": "stream",
     "text": [
      "\n",
      "INFO:cmdstanpy:CmdStan done processing.\n"
     ]
    },
    {
     "name": "stdout",
     "output_type": "stream",
     "text": [
      "\n"
     ]
    }
   ],
   "source": [
    "simulation_data = { 'N': len(df[\"PTS\"]), \"points\": np.linspace(df[\"PTS\"].min(),df[\"PTS\"].max(),num=58) }\n",
    "simulation_squared = model_squared.sample(data=simulation_data, \n",
    "                                          iter_sampling=R, \n",
    "                                          refresh=R, \n",
    "                                          iter_warmup=0, \n",
    "                                          chains=1, \n",
    "                                          fixed_param=True)"
   ]
  },
  {
   "cell_type": "code",
   "execution_count": 1639,
   "metadata": {},
   "outputs": [
    {
     "data": {
      "image/png": "[encoded data removed]",
      "text/plain": [
       "<Figure size 432x288 with 1 Axes>"
      ]
     },
     "metadata": {
      "needs_background": "light"
     },
     "output_type": "display_data"
    },
    {
     "data": {
      "image/png": "[encoded data removed]",
      "text/plain": [
       "<Figure size 432x288 with 1 Axes>"
      ]
     },
     "metadata": {
      "needs_background": "light"
     },
     "output_type": "display_data"
    },
    {
     "data": {
      "image/png": "[encoded data removed]",
      "text/plain": [
       "<Figure size 432x288 with 1 Axes>"
      ]
     },
     "metadata": {
      "needs_background": "light"
     },
     "output_type": "display_data"
    }
   ],
   "source": [
    "for signs in ['beta', 'gamma', 'sigma']:\n",
    "    plt.hist(simulation_squared.stan_variable(signs), bins=15)\n",
    "    plt.title(signs)\n",
    "    plt.show()"
   ]
  },
  {
   "cell_type": "markdown",
   "metadata": {},
   "source": [
    "Histograms looks like normal distribution"
   ]
  },
  {
   "cell_type": "code",
   "execution_count": 1640,
   "metadata": {},
   "outputs": [],
   "source": [
    "beta_quad_ppc = simulation_squared.stan_variable('beta')\n",
    "gamma_quad_ppc = simulation_squared.stan_variable('gamma')\n",
    "eff_quad_ppc = simulation_squared.stan_variable('eff')"
   ]
  },
  {
   "cell_type": "code",
   "execution_count": 1641,
   "metadata": {},
   "outputs": [
    {
     "data": {
      "text/plain": [
       "Text(0, 0.5, 'eff')"
      ]
     },
     "execution_count": 1641,
     "metadata": {},
     "output_type": "execute_result"
    },
    {
     "data": {
      "image/png": "[encoded data removed]",
      "text/plain": [
       "<Figure size 504x288 with 1 Axes>"
      ]
     },
     "metadata": {
      "needs_background": "light"
     },
     "output_type": "display_data"
    }
   ],
   "source": [
    "fig, axes = plt.subplots(1,1, figsize = (7,4))\n",
    "axes.hlines([0, 2000], xmin = df['PTS'].min(), \n",
    "            xmax = df['PTS'].max(), linestyle = '--', color = 'black')\n",
    "for i in range(60):\n",
    "    axes.plot(df['PTS'], \n",
    "                 gamma_quad_ppc[i]*np.square(df['PTS']) + beta_quad_ppc[i]*df['PTS'], alpha=0.5)\n",
    "axes.set_xlabel('points', fontsize = 6)\n",
    "axes.set_ylabel('eff', fontsize = 6)"
   ]
  },
  {
   "cell_type": "markdown",
   "metadata": {},
   "source": [
    "<h2>Quadratic Posterior</h2>"
   ]
  },
  {
   "cell_type": "code",
   "execution_count": 1652,
   "metadata": {},
   "outputs": [
    {
     "name": "stdout",
     "output_type": "stream",
     "text": [
      "data {\n",
      "\tint N;\n",
      "\tvector[N] points;\n",
      "\treal effs[N];\n",
      "}\n",
      "\n",
      "parameters {\n",
      "\treal alpha;\n",
      "\treal beta;\n",
      "\treal gamma;\n",
      "\treal<lower=0> sigma;\n",
      "}\n",
      "\n",
      "transformed parameters {\n",
      "\tvector[N] mu = square(points)*gamma + points*beta;\n",
      "}\n",
      "\n",
      "model {\n",
      "\tbeta ~ normal(1,0.1); \n",
      "\tsigma ~ normal(300, 50);\n",
      "\tgamma ~ normal(-0.0001, 0.0001);\n",
      "\teffs ~ normal(mu, sigma);\n",
      "}\n",
      "\n",
      "generated quantities {\n",
      "\treal eff[N];\n",
      "\tvector[N] log_lik;\n",
      "\tarray[N] real y_hat;\n",
      "\n",
      "\tfor (i in 1:N){\n",
      "\t\teff[i] = normal_rng(mu[i], sigma);\n",
      "\t\tlog_lik[i] = normal_lpdf(effs[i] | mu[i], sigma);\n",
      "\t\ty_hat[i] = normal_rng(mu[i], sigma);\n",
      "\t}\n",
      "}\n"
     ]
    }
   ],
   "source": [
    "with open('gen_quad.stan', 'r') as file:\n",
    "    print(file.read())"
   ]
  },
  {
   "cell_type": "code",
   "execution_count": 1643,
   "metadata": {},
   "outputs": [],
   "source": [
    "simulation_data_pos_squared = { 'N': len(df), \"points\": df[\"PTS\"], 'effs': df['EFF']  }\n"
   ]
  },
  {
   "cell_type": "code",
   "execution_count": 1644,
   "metadata": {},
   "outputs": [
    {
     "name": "stderr",
     "output_type": "stream",
     "text": [
      "INFO:cmdstanpy:compiling stan file C:\\Users\\macie\\OneDrive\\Pulpit\\All\\Studia\\AIR_2022\\Data_analytics\\Data_Analytics\\Data_Analytics\\Project\\gen_quad.stan to exe file C:\\Users\\macie\\OneDrive\\Pulpit\\All\\Studia\\AIR_2022\\Data_analytics\\Data_Analytics\\Data_Analytics\\Project\\gen_quad.exe\n",
      "INFO:cmdstanpy:compiled model executable: C:\\Users\\macie\\OneDrive\\Pulpit\\All\\Studia\\AIR_2022\\Data_analytics\\Data_Analytics\\Data_Analytics\\Project\\gen_quad.exe\n",
      "WARNING:cmdstanpy:Stan compiler has produced 2 warnings:\n",
      "WARNING:cmdstanpy:\n",
      "--- Translating Stan model to C++ code ---\n",
      "bin/stanc.exe  --o=C:/Users/macie/OneDrive/Pulpit/All/Studia/AIR_2022/Data_analytics/Data_Analytics/Data_Analytics/Project/gen_quad.hpp C:/Users/macie/OneDrive/Pulpit/All/Studia/AIR_2022/Data_analytics/Data_Analytics/Data_Analytics/Project/gen_quad.stan\n",
      "Warning in 'C:/Users/macie/OneDrive/Pulpit/All/Studia/AIR_2022/Data_analytics/Data_Analytics/Data_Analytics/Project/gen_quad.stan', line 4, column 1: Declaration\n",
      "    of arrays by placing brackets after a variable name is deprecated and\n",
      "    will be removed in Stan 2.32.0. Instead use the array keyword before the\n",
      "    type. This can be changed automatically using the auto-format flag to\n",
      "    stanc\n",
      "Warning in 'C:/Users/macie/OneDrive/Pulpit/All/Studia/AIR_2022/Data_analytics/Data_Analytics/Data_Analytics/Project/gen_quad.stan', line 26, column 1: Declaration\n",
      "    of arrays by placing brackets after a variable name is deprecated and\n",
      "    will be removed in Stan 2.32.0. Instead use the array keyword before the\n",
      "    type. This can be changed automatically using the auto-format flag to\n",
      "    stanc\n",
      "\n",
      "--- Compiling, linking C++ code ---\n",
      "g++ -std=c++1y -m64 -D_REENTRANT -Wall -Wno-unused-function -Wno-uninitialized -Wno-unused-but-set-variable -Wno-unused-variable -Wno-sign-compare -Wno-unused-local-typedefs -Wno-int-in-bool-context -Wno-attributes -Wno-ignored-attributes      -I stan/lib/stan_math/lib/tbb_2020.3/include    -O3 -I src -I stan/src -I lib/rapidjson_1.1.0/ -I lib/CLI11-1.9.1/ -I stan/lib/stan_math/ -I stan/lib/stan_math/lib/eigen_3.3.9 -I stan/lib/stan_math/lib/boost_1.75.0 -I stan/lib/stan_math/lib/sundials_6.0.0/include -I stan/lib/stan_math/lib/sundials_6.0.0/src/sundials  -D_USE_MATH_DEFINES  -DBOOST_DISABLE_ASSERTS          -c  -x c++ -o C:/Users/macie/OneDrive/Pulpit/All/Studia/AIR_2022/Data_analytics/Data_Analytics/Data_Analytics/Project/gen_quad.o C:/Users/macie/OneDrive/Pulpit/All/Studia/AIR_2022/Data_analytics/Data_Analytics/Data_Analytics/Project/gen_quad.hpp\n",
      "g++ -std=c++1y -m64 -D_REENTRANT -Wall -Wno-unused-function -Wno-uninitialized -Wno-unused-but-set-variable -Wno-unused-variable -Wno-sign-compare -Wno-unused-local-typedefs -Wno-int-in-bool-context -Wno-attributes -Wno-ignored-attributes      -I stan/lib/stan_math/lib/tbb_2020.3/include    -O3 -I src -I stan/src -I lib/rapidjson_1.1.0/ -I lib/CLI11-1.9.1/ -I stan/lib/stan_math/ -I stan/lib/stan_math/lib/eigen_3.3.9 -I stan/lib/stan_math/lib/boost_1.75.0 -I stan/lib/stan_math/lib/sundials_6.0.0/include -I stan/lib/stan_math/lib/sundials_6.0.0/src/sundials  -D_USE_MATH_DEFINES  -DBOOST_DISABLE_ASSERTS                -Wl,-L,\"C:/Users/macie/anaconda3/envs/data/Library/bin/cmdstan/stan/lib/stan_math/lib/tbb\" -Wl,-rpath,\"C:/Users/macie/anaconda3/envs/data/Library/bin/cmdstan/stan/lib/stan_math/lib/tbb\"      C:/Users/macie/OneDrive/Pulpit/All/Studia/AIR_2022/Data_analytics/Data_Analytics/Data_Analytics/Project/gen_quad.o src/cmdstan/main.o  -static-libgcc -static-libstdc++      -Wl,-L,\"C:/Users/macie/anaconda3/envs/data/Library/bin/cmdstan/stan/lib/stan_math/lib/tbb\" -Wl,-rpath,\"C:/Users/macie/anaconda3/envs/data/Library/bin/cmdstan/stan/lib/stan_math/lib/tbb\"   stan/lib/stan_math/lib/sundials_6.0.0/lib/libsundials_nvecserial.a stan/lib/stan_math/lib/sundials_6.0.0/lib/libsundials_cvodes.a stan/lib/stan_math/lib/sundials_6.0.0/lib/libsundials_idas.a stan/lib/stan_math/lib/sundials_6.0.0/lib/libsundials_kinsol.a  stan/lib/stan_math/lib/tbb/tbb.dll -o C:/Users/macie/OneDrive/Pulpit/All/Studia/AIR_2022/Data_analytics/Data_Analytics/Data_Analytics/Project/gen_quad.exe\n",
      "rm -f C:/Users/macie/OneDrive/Pulpit/All/Studia/AIR_2022/Data_analytics/Data_Analytics/Data_Analytics/Project/gen_quad.o\n",
      "\n",
      "INFO:cmdstanpy:CmdStan start processing\n",
      "chain 1 |\u001b[33m          \u001b[0m| 00:00 Status\n",
      "\u001b[A\n",
      "\n",
      "chain 1 |\u001b[33m██▎       \u001b[0m| 00:00 Iteration:  300 / 2000 [ 15%]  (Warmup)\n",
      "\u001b[A\n",
      "\n",
      "chain 1 |\u001b[33m████▌     \u001b[0m| 00:00 Iteration:  800 / 2000 [ 40%]  (Warmup)\n",
      "\n",
      "chain 1 |\u001b[34m██████▎   \u001b[0m| 00:00 Iteration: 1100 / 2000 [ 55%]  (Sampling)\n",
      "\u001b[A\n",
      "\n",
      "\u001b[A\u001b[A\n",
      "chain 1 |\u001b[34m███████▎  \u001b[0m| 00:01 Iteration: 1300 / 2000 [ 65%]  (Sampling)\n",
      "\n",
      "\u001b[A\u001b[A\n",
      "chain 1 |\u001b[34m████████▏ \u001b[0m| 00:01 Iteration: 1500 / 2000 [ 75%]  (Sampling)\n",
      "\n",
      "\u001b[A\u001b[A\n",
      "\n",
      "\u001b[A\u001b[A\n",
      "\n",
      "chain 1 |\u001b[34m█████████ \u001b[0m| 00:01 Iteration: 1700 / 2000 [ 85%]  (Sampling)\n",
      "\u001b[A\n",
      "\n",
      "chain 1 |\u001b[34m█████████▌\u001b[0m| 00:01 Iteration: 1800 / 2000 [ 90%]  (Sampling)\n",
      "\u001b[A\n",
      "\n",
      "\u001b[A\u001b[A\n",
      "chain 1 |\u001b[34m██████████\u001b[0m| 00:02 Iteration: 1900 / 2000 [ 95%]  (Sampling)\n",
      "\n",
      "\u001b[A\u001b[A\n",
      "\u001b[A\n",
      "\u001b[A\n",
      "chain 1 |\u001b[34m██████████\u001b[0m| 00:02 Sampling completed                       \n",
      "chain 2 |\u001b[34m██████████\u001b[0m| 00:02 Sampling completed                       \n",
      "chain 3 |\u001b[34m██████████\u001b[0m| 00:02 Sampling completed                       \n",
      "chain 4 |\u001b[34m██████████\u001b[0m| 00:02 Sampling completed                       "
     ]
    },
    {
     "name": "stdout",
     "output_type": "stream",
     "text": [
      "                                                                                                                                                                                                                                                                                                                                "
     ]
    },
    {
     "name": "stderr",
     "output_type": "stream",
     "text": [
      "\n",
      "INFO:cmdstanpy:CmdStan done processing.\n"
     ]
    },
    {
     "name": "stdout",
     "output_type": "stream",
     "text": [
      "\n"
     ]
    }
   ],
   "source": [
    "model_squared_p = CmdStanModel(stan_file='gen_quad.stan')\n",
    "simulation_pos_squared = model_squared_p.sample(data=simulation_data_pos_squared)"
   ]
  },
  {
   "cell_type": "code",
   "execution_count": 1645,
   "metadata": {},
   "outputs": [],
   "source": [
    "beta_squared_fit = simulation_pos_squared.stan_variable('beta')\n",
    "gamma_squared_fit = simulation_pos_squared.stan_variable('gamma')\n",
    "eff_squared_fit = simulation_pos_squared.stan_variable('eff')\n"
   ]
  },
  {
   "cell_type": "code",
   "execution_count": 1646,
   "metadata": {},
   "outputs": [
    {
     "data": {
      "text/plain": [
       "Text(0, 0.5, 'eff')"
      ]
     },
     "execution_count": 1646,
     "metadata": {},
     "output_type": "execute_result"
    },
    {
     "data": {
      "image/png": "[encoded data removed]",
      "text/plain": [
       "<Figure size 504x288 with 1 Axes>"
      ]
     },
     "metadata": {
      "needs_background": "light"
     },
     "output_type": "display_data"
    }
   ],
   "source": [
    "fig, axes = plt.subplots(1,1, figsize = (7,4))\n",
    "axes.hlines([0, 2000], xmin = df['PTS'].min(), \n",
    "            xmax = df['PTS'].max(), linestyle = '--')\n",
    "for i in range(200):\n",
    "    axes.plot(df['PTS'], \n",
    "                gamma_squared_fit[i]*np.square(df['PTS']) + beta_squared_fit[i]*df['PTS'] , alpha=0.1)\n",
    "axes.scatter(df['PTS'], df['EFF'], \n",
    "             color = 'black', alpha = 1, s=10)\n",
    "axes.set_xlabel('points', fontsize = 6)\n",
    "axes.set_ylabel('eff', fontsize = 6)"
   ]
  },
  {
   "cell_type": "markdown",
   "metadata": {},
   "source": [
    "The posterior curves are closer to each other. It seems like coefficients were selected quite nice. But the results from posterior anylisys are a little bit diffrent. The diffrence could be made by increasing the range of axes."
   ]
  },
  {
   "cell_type": "markdown",
   "metadata": {},
   "source": [
    "Both results are similar."
   ]
  },
  {
   "cell_type": "markdown",
   "metadata": {},
   "source": [
    "<h2>Model Comparison</h2>"
   ]
  },
  {
   "cell_type": "code",
   "execution_count": 1647,
   "metadata": {},
   "outputs": [],
   "source": [
    "fit_linear = az.from_cmdstanpy(posterior = simulation_pos, log_likelihood = 'log_lik', \n",
    "                                 posterior_predictive='y_hat' )\n",
    "\n",
    "\n",
    "fit_quadratic = az.from_cmdstanpy(posterior=simulation_pos_squared, log_likelihood = 'log_lik', \n",
    "                                    posterior_predictive='y_hat')\n"
   ]
  },
  {
   "cell_type": "code",
   "execution_count": 1648,
   "metadata": {},
   "outputs": [
    {
     "name": "stderr",
     "output_type": "stream",
     "text": [
      "c:\\Users\\macie\\anaconda3\\envs\\data\\lib\\site-packages\\arviz\\stats\\stats.py:811: UserWarning: Estimated shape parameter of Pareto distribution is greater than 0.7 for one or more samples. You should consider using a more robust model, this is because importance sampling is less likely to work well if the marginal posterior and LOO posterior are very different. This is more likely to happen with a non-robust model and highly influential observations.\n",
      "  warnings.warn(\n"
     ]
    },
    {
     "data": {
      "text/plain": [
       "Text(0.5, 1.0, 'WAIC comparision')"
      ]
     },
     "execution_count": 1648,
     "metadata": {},
     "output_type": "execute_result"
    },
    {
     "data": {
      "image/png": "[encoded data removed]",
      "text/plain": [
       "<Figure size 432x144 with 1 Axes>"
      ]
     },
     "metadata": {
      "needs_background": "light"
     },
     "output_type": "display_data"
    }
   ],
   "source": [
    "\n",
    "compare_dict = {'Linear model': fit_linear,'Quadratic model': fit_quadratic}\n",
    "model_compare_waic = az.compare(compare_dict)\n",
    "az.plot_compare(model_compare_waic)\n",
    "plt.title('WAIC comparision')\n"
   ]
  },
  {
   "cell_type": "code",
   "execution_count": 1650,
   "metadata": {},
   "outputs": [
    {
     "data": {
      "text/html": [
       "<div>\n",
       "<style scoped>\n",
       "    .dataframe tbody tr th:only-of-type {\n",
       "        vertical-align: middle;\n",
       "    }\n",
       "\n",
       "    .dataframe tbody tr th {\n",
       "        vertical-align: top;\n",
       "    }\n",
       "\n",
       "    .dataframe thead th {\n",
       "        text-align: right;\n",
       "    }\n",
       "</style>\n",
       "<table border=\"1\" class=\"dataframe\">\n",
       "  <thead>\n",
       "    <tr style=\"text-align: right;\">\n",
       "      <th></th>\n",
       "      <th>rank</th>\n",
       "      <th>loo</th>\n",
       "      <th>p_loo</th>\n",
       "      <th>d_loo</th>\n",
       "      <th>weight</th>\n",
       "      <th>se</th>\n",
       "      <th>dse</th>\n",
       "      <th>warning</th>\n",
       "      <th>loo_scale</th>\n",
       "    </tr>\n",
       "  </thead>\n",
       "  <tbody>\n",
       "    <tr>\n",
       "      <th>Quadratic model</th>\n",
       "      <td>0</td>\n",
       "      <td>-392.416456</td>\n",
       "      <td>3.120237</td>\n",
       "      <td>0.000000</td>\n",
       "      <td>1.000000e+00</td>\n",
       "      <td>5.531107</td>\n",
       "      <td>0.000000</td>\n",
       "      <td>False</td>\n",
       "      <td>log</td>\n",
       "    </tr>\n",
       "    <tr>\n",
       "      <th>Linear model</th>\n",
       "      <td>1</td>\n",
       "      <td>-431.829708</td>\n",
       "      <td>46.627728</td>\n",
       "      <td>39.413252</td>\n",
       "      <td>1.230660e-11</td>\n",
       "      <td>0.927785</td>\n",
       "      <td>5.721884</td>\n",
       "      <td>True</td>\n",
       "      <td>log</td>\n",
       "    </tr>\n",
       "  </tbody>\n",
       "</table>\n",
       "</div>"
      ],
      "text/plain": [
       "                 rank         loo      p_loo      d_loo        weight  \\\n",
       "Quadratic model     0 -392.416456   3.120237   0.000000  1.000000e+00   \n",
       "Linear model        1 -431.829708  46.627728  39.413252  1.230660e-11   \n",
       "\n",
       "                       se       dse  warning loo_scale  \n",
       "Quadratic model  5.531107  0.000000    False       log  \n",
       "Linear model     0.927785  5.721884     True       log  "
      ]
     },
     "execution_count": 1650,
     "metadata": {},
     "output_type": "execute_result"
    }
   ],
   "source": [
    "model_compare_waic"
   ]
  },
  {
   "cell_type": "code",
   "execution_count": 1649,
   "metadata": {},
   "outputs": [
    {
     "name": "stderr",
     "output_type": "stream",
     "text": [
      "c:\\Users\\macie\\anaconda3\\envs\\data\\lib\\site-packages\\arviz\\stats\\stats.py:811: UserWarning: Estimated shape parameter of Pareto distribution is greater than 0.7 for one or more samples. You should consider using a more robust model, this is because importance sampling is less likely to work well if the marginal posterior and LOO posterior are very different. This is more likely to happen with a non-robust model and highly influential observations.\n",
      "  warnings.warn(\n"
     ]
    },
    {
     "data": {
      "text/plain": [
       "Text(0.5, 1.0, 'LOO comparison')"
      ]
     },
     "execution_count": 1649,
     "metadata": {},
     "output_type": "execute_result"
    },
    {
     "data": {
      "image/png": "[encoded data removed]",
      "text/plain": [
       "<Figure size 432x144 with 1 Axes>"
      ]
     },
     "metadata": {
      "needs_background": "light"
     },
     "output_type": "display_data"
    }
   ],
   "source": [
    "model_compare_loo = az.compare(compare_dict, ic=\"loo\", method=\"stacking\", scale=\"log\")\n",
    "az.plot_compare(model_compare_loo)\n",
    "plt.title('LOO comparison')\n"
   ]
  },
  {
   "cell_type": "code",
   "execution_count": 1651,
   "metadata": {},
   "outputs": [
    {
     "data": {
      "text/html": [
       "<div>\n",
       "<style scoped>\n",
       "    .dataframe tbody tr th:only-of-type {\n",
       "        vertical-align: middle;\n",
       "    }\n",
       "\n",
       "    .dataframe tbody tr th {\n",
       "        vertical-align: top;\n",
       "    }\n",
       "\n",
       "    .dataframe thead th {\n",
       "        text-align: right;\n",
       "    }\n",
       "</style>\n",
       "<table border=\"1\" class=\"dataframe\">\n",
       "  <thead>\n",
       "    <tr style=\"text-align: right;\">\n",
       "      <th></th>\n",
       "      <th>rank</th>\n",
       "      <th>loo</th>\n",
       "      <th>p_loo</th>\n",
       "      <th>d_loo</th>\n",
       "      <th>weight</th>\n",
       "      <th>se</th>\n",
       "      <th>dse</th>\n",
       "      <th>warning</th>\n",
       "      <th>loo_scale</th>\n",
       "    </tr>\n",
       "  </thead>\n",
       "  <tbody>\n",
       "    <tr>\n",
       "      <th>Quadratic model</th>\n",
       "      <td>0</td>\n",
       "      <td>-392.416456</td>\n",
       "      <td>3.120237</td>\n",
       "      <td>0.000000</td>\n",
       "      <td>1.000000e+00</td>\n",
       "      <td>5.531107</td>\n",
       "      <td>0.000000</td>\n",
       "      <td>False</td>\n",
       "      <td>log</td>\n",
       "    </tr>\n",
       "    <tr>\n",
       "      <th>Linear model</th>\n",
       "      <td>1</td>\n",
       "      <td>-431.829708</td>\n",
       "      <td>46.627728</td>\n",
       "      <td>39.413252</td>\n",
       "      <td>1.230660e-11</td>\n",
       "      <td>0.927785</td>\n",
       "      <td>5.721884</td>\n",
       "      <td>True</td>\n",
       "      <td>log</td>\n",
       "    </tr>\n",
       "  </tbody>\n",
       "</table>\n",
       "</div>"
      ],
      "text/plain": [
       "                 rank         loo      p_loo      d_loo        weight  \\\n",
       "Quadratic model     0 -392.416456   3.120237   0.000000  1.000000e+00   \n",
       "Linear model        1 -431.829708  46.627728  39.413252  1.230660e-11   \n",
       "\n",
       "                       se       dse  warning loo_scale  \n",
       "Quadratic model  5.531107  0.000000    False       log  \n",
       "Linear model     0.927785  5.721884     True       log  "
      ]
     },
     "execution_count": 1651,
     "metadata": {},
     "output_type": "execute_result"
    }
   ],
   "source": [
    "model_compare_loo"
   ]
  },
  {
   "cell_type": "markdown",
   "metadata": {},
   "source": [
    "As it looks for models comparision, clearly the only winner with both cases is quadratic model. There isn't overlap and also there wasn't any warnings. We can observe that the diffrence is really small."
   ]
  }
 ],
 "metadata": {
  "interpreter": {
   "hash": "8aae2103a004eec9b4d7b6d732c6aa44ed417bce71370c5655c69b16e166a0df"
  },
  "kernelspec": {
   "display_name": "Python 3.9.7 ('data')",
   "language": "python",
   "name": "python3"
  },
  "language_info": {
   "codemirror_mode": {
    "name": "ipython",
    "version": 3
   },
   "file_extension": ".py",
   "mimetype": "text/x-python",
   "name": "python",
   "nbconvert_exporter": "python",
   "pygments_lexer": "ipython3",
   "version": "3.9.7"
  },
  "orig_nbformat": 4
 },
 "nbformat": 4,
 "nbformat_minor": 2
}
