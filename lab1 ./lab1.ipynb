import pandas as pd
import matplotlib.pyplot as plt
import numpy as np
from cmdstanpy import CmdStanModel
from random import shuffle

stan_y = [0]*6 + [1]*6
shuffle(stan_y)
stan_data = {'N': 12,
             'y': stan_y}
model = CmdStanModel(stan_file='bern_1.stan')
sample = model.sample(stan_data)
theta = sample.stan_variable('theta')
summary = sample.summary()
plt.hist(theta, bins=20)
plt.axvline(summary['5%']['theta'], color='y')
plt.axvline(summary['50%']['theta'], color='r')
plt.axvline(summary['95%']['theta'], color='b')
plt.axvline(theta.mean(), color='y')
plt.show()
