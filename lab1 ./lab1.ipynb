import pandas as pd
import matplotlib.pyplot as plt
import matplotlib.dates as mdates

data = pd.read_csv(r'Data1.csv')
data.set_index("Unnamed: 0") 
data.plot(subplots=True)
plt.show()
data.hist(bins=50, linewidth = 0.75)
data.plot.kde()


columns = ["theta_1","theta_2","theta_3","theta_4"]

for i in columns:
    data.hist(column=i,bins=50)
data[["theta_1","theta_2","theta_3","theta_4"]].plot(subplots=True)
plt.show()
data[["theta_1","theta_2","theta_3","theta_4"]].plot.kde()
