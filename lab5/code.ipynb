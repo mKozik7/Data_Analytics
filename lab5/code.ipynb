{
 "cells": [
  {
   "cell_type": "code",
   "execution_count": 7,
   "metadata": {},
   "outputs": [],
   "source": [
    "from cmdstanpy import CmdStanModel\n",
    "\n",
    "import arviz as az\n",
    "import numpy as np\n",
    "import scipy.stats as stats\n",
    "\n",
    "import pandas as pd\n",
    "\n",
    "import matplotlib.pyplot as plt\n",
    "import matplotlib as mpl\n"
   ]
  },
  {
   "cell_type": "code",
   "execution_count": 8,
   "metadata": {},
   "outputs": [
    {
     "data": {
      "text/html": [
       "<div>\n",
       "<style scoped>\n",
       "    .dataframe tbody tr th:only-of-type {\n",
       "        vertical-align: middle;\n",
       "    }\n",
       "\n",
       "    .dataframe tbody tr th {\n",
       "        vertical-align: top;\n",
       "    }\n",
       "\n",
       "    .dataframe thead th {\n",
       "        text-align: right;\n",
       "    }\n",
       "</style>\n",
       "<table border=\"1\" class=\"dataframe\">\n",
       "  <thead>\n",
       "    <tr style=\"text-align: right;\">\n",
       "      <th></th>\n",
       "      <th>x1</th>\n",
       "      <th>x2</th>\n",
       "      <th>x3</th>\n",
       "      <th>x4</th>\n",
       "      <th>x5</th>\n",
       "      <th>y</th>\n",
       "    </tr>\n",
       "  </thead>\n",
       "  <tbody>\n",
       "    <tr>\n",
       "      <th>count</th>\n",
       "      <td>500.000000</td>\n",
       "      <td>500.000000</td>\n",
       "      <td>500.000000</td>\n",
       "      <td>5.000000e+02</td>\n",
       "      <td>5.000000e+02</td>\n",
       "      <td>500.000000</td>\n",
       "    </tr>\n",
       "    <tr>\n",
       "      <th>mean</th>\n",
       "      <td>-0.015777</td>\n",
       "      <td>0.334002</td>\n",
       "      <td>-0.001484</td>\n",
       "      <td>2.022817e-01</td>\n",
       "      <td>2.770684e-03</td>\n",
       "      <td>0.494000</td>\n",
       "    </tr>\n",
       "    <tr>\n",
       "      <th>std</th>\n",
       "      <td>0.578292</td>\n",
       "      <td>0.301507</td>\n",
       "      <td>0.383111</td>\n",
       "      <td>2.738984e-01</td>\n",
       "      <td>3.107472e-01</td>\n",
       "      <td>0.500465</td>\n",
       "    </tr>\n",
       "    <tr>\n",
       "      <th>min</th>\n",
       "      <td>-0.997592</td>\n",
       "      <td>0.000005</td>\n",
       "      <td>-0.992794</td>\n",
       "      <td>2.276756e-11</td>\n",
       "      <td>-9.880191e-01</td>\n",
       "      <td>0.000000</td>\n",
       "    </tr>\n",
       "    <tr>\n",
       "      <th>25%</th>\n",
       "      <td>-0.515144</td>\n",
       "      <td>0.064052</td>\n",
       "      <td>-0.136718</td>\n",
       "      <td>4.102616e-03</td>\n",
       "      <td>-3.628888e-02</td>\n",
       "      <td>0.000000</td>\n",
       "    </tr>\n",
       "    <tr>\n",
       "      <th>50%</th>\n",
       "      <td>-0.026042</td>\n",
       "      <td>0.254724</td>\n",
       "      <td>-0.000018</td>\n",
       "      <td>6.488454e-02</td>\n",
       "      <td>-1.278838e-08</td>\n",
       "      <td>0.000000</td>\n",
       "    </tr>\n",
       "    <tr>\n",
       "      <th>75%</th>\n",
       "      <td>0.475396</td>\n",
       "      <td>0.555544</td>\n",
       "      <td>0.107440</td>\n",
       "      <td>3.086316e-01</td>\n",
       "      <td>2.428165e-02</td>\n",
       "      <td>1.000000</td>\n",
       "    </tr>\n",
       "    <tr>\n",
       "      <th>max</th>\n",
       "      <td>0.999652</td>\n",
       "      <td>0.999305</td>\n",
       "      <td>0.998957</td>\n",
       "      <td>9.986100e-01</td>\n",
       "      <td>9.982628e-01</td>\n",
       "      <td>1.000000</td>\n",
       "    </tr>\n",
       "  </tbody>\n",
       "</table>\n",
       "</div>"
      ],
      "text/plain": [
       "               x1          x2          x3            x4            x5  \\\n",
       "count  500.000000  500.000000  500.000000  5.000000e+02  5.000000e+02   \n",
       "mean    -0.015777    0.334002   -0.001484  2.022817e-01  2.770684e-03   \n",
       "std      0.578292    0.301507    0.383111  2.738984e-01  3.107472e-01   \n",
       "min     -0.997592    0.000005   -0.992794  2.276756e-11 -9.880191e-01   \n",
       "25%     -0.515144    0.064052   -0.136718  4.102616e-03 -3.628888e-02   \n",
       "50%     -0.026042    0.254724   -0.000018  6.488454e-02 -1.278838e-08   \n",
       "75%      0.475396    0.555544    0.107440  3.086316e-01  2.428165e-02   \n",
       "max      0.999652    0.999305    0.998957  9.986100e-01  9.982628e-01   \n",
       "\n",
       "                y  \n",
       "count  500.000000  \n",
       "mean     0.494000  \n",
       "std      0.500465  \n",
       "min      0.000000  \n",
       "25%      0.000000  \n",
       "50%      0.000000  \n",
       "75%      1.000000  \n",
       "max      1.000000  "
      ]
     },
     "execution_count": 8,
     "metadata": {},
     "output_type": "execute_result"
    }
   ],
   "source": [
    "data = pd.read_csv('https://raw.githubusercontent.com/KAIR-ISZ/public_lectures/master/Data%20Analytics%202022/Lab%205%20-%20General%20Linear%20Models/logistic_reg_data.csv', index_col=0)\n",
    "data.describe()"
   ]
  },
  {
   "cell_type": "code",
   "execution_count": 9,
   "metadata": {},
   "outputs": [
    {
     "name": "stderr",
     "output_type": "stream",
     "text": [
      "INFO:cmdstanpy:found newer exe file, not recompiling\n"
     ]
    }
   ],
   "source": [
    "model_ppc1 = CmdStanModel(stan_file='logistic_regression_ppc.stan')\n"
   ]
  },
  {
   "cell_type": "code",
   "execution_count": 10,
   "metadata": {},
   "outputs": [
    {
     "name": "stderr",
     "output_type": "stream",
     "text": [
      "INFO:cmdstanpy:CmdStan start processing\n",
      "chain 1 |\u001b[34m██████████\u001b[0m| 00:00 Sampling completed                      "
     ]
    },
    {
     "name": "stdout",
     "output_type": "stream",
     "text": [
      "                                                                                "
     ]
    },
    {
     "name": "stderr",
     "output_type": "stream",
     "text": [
      "\n",
      "INFO:cmdstanpy:CmdStan done processing.\n"
     ]
    },
    {
     "name": "stdout",
     "output_type": "stream",
     "text": [
      "\n"
     ]
    }
   ],
   "source": [
    "R=1000\n",
    "data_ppc= dict(N = data.shape[0],\n",
    "                 M = 5,\n",
    "                 X = data.iloc[:,0:5].values,\n",
    "                 sigma=10)\n",
    "sim_ppc1=model_ppc1.sample(data=data_ppc, \n",
    "                           iter_sampling=R, iter_warmup=0, \n",
    "                           chains=1, \n",
    "                           refresh=R,\n",
    "                           fixed_param=True,\n",
    "                           seed=29042020)"
   ]
  },
  {
   "cell_type": "code",
   "execution_count": 11,
   "metadata": {},
   "outputs": [
    {
     "data": {
      "text/plain": [
       "(array([[316.,  24.,  17., ...,  17.,  20., 337.],\n",
       "        [385.,  18.,  10., ...,   9.,  18., 414.],\n",
       "        [441.,   9.,  10., ...,   7.,   9., 406.],\n",
       "        ...,\n",
       "        [403.,   9.,   4., ...,   4.,  18., 445.],\n",
       "        [363.,  21.,  16., ...,  13.,  12., 394.],\n",
       "        [428.,  12.,  12., ...,  10.,  15., 391.]]),\n",
       " array([2.51219e-32, 1.00000e-02, 2.00000e-02, 3.00000e-02, 4.00000e-02,\n",
       "        5.00000e-02, 6.00000e-02, 7.00000e-02, 8.00000e-02, 9.00000e-02,\n",
       "        1.00000e-01, 1.10000e-01, 1.20000e-01, 1.30000e-01, 1.40000e-01,\n",
       "        1.50000e-01, 1.60000e-01, 1.70000e-01, 1.80000e-01, 1.90000e-01,\n",
       "        2.00000e-01, 2.10000e-01, 2.20000e-01, 2.30000e-01, 2.40000e-01,\n",
       "        2.50000e-01, 2.60000e-01, 2.70000e-01, 2.80000e-01, 2.90000e-01,\n",
       "        3.00000e-01, 3.10000e-01, 3.20000e-01, 3.30000e-01, 3.40000e-01,\n",
       "        3.50000e-01, 3.60000e-01, 3.70000e-01, 3.80000e-01, 3.90000e-01,\n",
       "        4.00000e-01, 4.10000e-01, 4.20000e-01, 4.30000e-01, 4.40000e-01,\n",
       "        4.50000e-01, 4.60000e-01, 4.70000e-01, 4.80000e-01, 4.90000e-01,\n",
       "        5.00000e-01, 5.10000e-01, 5.20000e-01, 5.30000e-01, 5.40000e-01,\n",
       "        5.50000e-01, 5.60000e-01, 5.70000e-01, 5.80000e-01, 5.90000e-01,\n",
       "        6.00000e-01, 6.10000e-01, 6.20000e-01, 6.30000e-01, 6.40000e-01,\n",
       "        6.50000e-01, 6.60000e-01, 6.70000e-01, 6.80000e-01, 6.90000e-01,\n",
       "        7.00000e-01, 7.10000e-01, 7.20000e-01, 7.30000e-01, 7.40000e-01,\n",
       "        7.50000e-01, 7.60000e-01, 7.70000e-01, 7.80000e-01, 7.90000e-01,\n",
       "        8.00000e-01, 8.10000e-01, 8.20000e-01, 8.30000e-01, 8.40000e-01,\n",
       "        8.50000e-01, 8.60000e-01, 8.70000e-01, 8.80000e-01, 8.90000e-01,\n",
       "        9.00000e-01, 9.10000e-01, 9.20000e-01, 9.30000e-01, 9.40000e-01,\n",
       "        9.50000e-01, 9.60000e-01, 9.70000e-01, 9.80000e-01, 9.90000e-01,\n",
       "        1.00000e+00]),\n",
       " <a list of 500 BarContainer objects>)"
      ]
     },
     "execution_count": 11,
     "metadata": {},
     "output_type": "execute_result"
    },
    {
     "data": {
      "image/png": "[encoded data removed]",
      "text/plain": [
       "<Figure size 432x288 with 1 Axes>"
      ]
     },
     "metadata": {
      "needs_background": "light"
     },
     "output_type": "display_data"
    }
   ],
   "source": [
    "beta_prior = sim_ppc1.stan_variable('prob_ppc')\n",
    "plt.hist(beta_prior, bins = 100)"
   ]
  },
  {
   "cell_type": "code",
   "execution_count": 12,
   "metadata": {},
   "outputs": [
    {
     "name": "stderr",
     "output_type": "stream",
     "text": [
      "INFO:cmdstanpy:CmdStan start processing\n",
      "chain 1 |\u001b[34m██████████\u001b[0m| 00:00 Sampling completed                      "
     ]
    },
    {
     "name": "stdout",
     "output_type": "stream",
     "text": [
      "                                                                                "
     ]
    },
    {
     "name": "stderr",
     "output_type": "stream",
     "text": [
      "\n",
      "INFO:cmdstanpy:CmdStan done processing.\n"
     ]
    },
    {
     "name": "stdout",
     "output_type": "stream",
     "text": [
      "\n"
     ]
    }
   ],
   "source": [
    "for sigma in [5,2,0.75]:\n",
    "    R=1000\n",
    "    data_ppc= dict(N = data.shape[0],\n",
    "                    M = 5,\n",
    "                    X = data.iloc[:,0:5].values,\n",
    "                    sigma=10)\n",
    "    sim_ppc1=model_ppc1.sample(data=data_ppc, \n",
    "                           iter_sampling=R, iter_warmup=0, \n",
    "                           chains=1, \n",
    "                           refresh=R,\n",
    "                           fixed_param=True,\n",
    "                           seed=29042020)\n",
    "\n",
    "    beta_prior = sim_ppc1.stan_variable('prob_ppc')\n",
    "    plt.hist(beta_prior, bins = 100)\n",
    "    plt.title('Histogram sigma = %1.2f' %sigma)\n",
    "    plt.show()"
   ]
  },
  {
   "cell_type": "code",
   "execution_count": null,
   "metadata": {},
   "outputs": [],
   "source": [
    "model = CmdStanModel(stan_file=r'logistic_regression.stan')\n"
   ]
  },
  {
   "cell_type": "code",
   "execution_count": null,
   "metadata": {},
   "outputs": [],
   "source": [
    "data_dict = dict(N = data.shape[0],\n",
    "                 M = 5,\n",
    "                 X = data.iloc[:,0:5].values,\n",
    "                 y = data.y.values\n",
    "                 )\n",
    "fit = model.sample(data=data_dict, seed=4938483)"
   ]
  },
  {
   "cell_type": "code",
   "execution_count": null,
   "metadata": {},
   "outputs": [],
   "source": [
    "med_prob_ppc = np.percentile(fit.stan_variable('prob_ppc'),[25,50,75],axis=0)\n",
    "estimate_ppc_df = pd.DataFrame(med_prob_ppc.T,columns = ['lo','med','hi'])\n",
    "\n",
    "plt.plot(estimate_ppc_df['lo'])\n",
    "plt.title('lo')\n",
    "plt.show()\n",
    "\n",
    "plt.plot(estimate_ppc_df['med'])\n",
    "plt.title('med')\n",
    "plt.show()\n",
    "\n",
    "plt.plot(estimate_ppc_df['hi'])\n",
    "plt.title('hi')\n",
    "plt.show()"
   ]
  },
  {
   "cell_type": "code",
   "execution_count": null,
   "metadata": {},
   "outputs": [],
   "source": [
    "data_dict = dict(N = data.shape[0],\n",
    "                 M = 5,\n",
    "                 X = data.iloc[:,0:5].values,\n",
    "                 y = data.y.values\n",
    "                 )\n",
    "fit = model.sample(data=data_dict, seed=4938483)"
   ]
  },
  {
   "cell_type": "code",
   "execution_count": null,
   "metadata": {},
   "outputs": [],
   "source": [
    "med_prob_ppc = np.percentile(fit.stan_variable('prob_ppc'),[25,50,75],axis=0)\n",
    "estimate_ppc_df = pd.DataFrame(med_prob_ppc.T,columns = ['lo','med','hi'])\n",
    "plt.plot(estimate_ppc_df['lo'])\n",
    "plt.show()\n",
    "\n",
    "plt.plot(estimate_ppc_df['med'])\n",
    "plt.show()\n",
    "\n",
    "plt.plot(estimate_ppc_df['hi'])\n",
    "plt.show()"
   ]
  },
  {
   "cell_type": "code",
   "execution_count": null,
   "metadata": {},
   "outputs": [],
   "source": [
    "plt.errorbar(np.arange(500),estimate_ppc_df['med'])\n"
   ]
  }
 ],
 "metadata": {
  "interpreter": {
   "hash": "8aae2103a004eec9b4d7b6d732c6aa44ed417bce71370c5655c69b16e166a0df"
  },
  "kernelspec": {
   "display_name": "Python 3.9.7 ('data')",
   "language": "python",
   "name": "python3"
  },
  "language_info": {
   "codemirror_mode": {
    "name": "ipython",
    "version": 3
   },
   "file_extension": ".py",
   "mimetype": "text/x-python",
   "name": "python",
   "nbconvert_exporter": "python",
   "pygments_lexer": "ipython3",
   "version": "3.9.7"
  },
  "orig_nbformat": 4
 },
 "nbformat": 4,
 "nbformat_minor": 2
}
